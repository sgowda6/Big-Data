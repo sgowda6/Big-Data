{
  "nbformat": 4,
  "nbformat_minor": 0,
  "metadata": {
    "kernelspec": {
      "display_name": "Python 3",
      "language": "python",
      "name": "python3"
    },
    "language_info": {
      "codemirror_mode": {
        "name": "ipython",
        "version": 3
      },
      "file_extension": ".py",
      "mimetype": "text/x-python",
      "name": "python",
      "nbconvert_exporter": "python",
      "pygments_lexer": "ipython3",
      "version": "3.7.6"
    },
    "colab": {
      "name": "Code_ISSP.ipynb",
      "provenance": [],
      "collapsed_sections": [
        "kIdEC3b86LqS",
        "W4CaYmb46Lqs",
        "1uolm_0O6Lqw",
        "hpm06oks6Lq9",
        "2_7J3zPu6LrS",
        "Zg2bL4XB6LrV",
        "er4U_Jd66LrW",
        "G18sVLP46LrZ",
        "2_XnManK6Lrc",
        "Rufr12RL6Lrf",
        "TJGE5NkH6Lrf",
        "BaXGyY1Q6Lri",
        "wDpYl5Ub6Lrl",
        "Jmdg2qWV6Lrl",
        "q3kziKvY6Lro",
        "Gzk9tWki6Lrq",
        "vI7F9qH46Lrr",
        "dcl2hP1-6Lrv",
        "rB5hWC946Lrz",
        "Hi9tJCt26Lr1"
      ]
    }
  },
  "cells": [
    {
      "cell_type": "markdown",
      "metadata": {
        "id": "kIdEC3b86LqS"
      },
      "source": [
        "## Importing necessary packages"
      ]
    },
    {
      "cell_type": "code",
      "metadata": {
        "id": "RFvnsM2-6Lql"
      },
      "source": [
        "#!git clone -qq https://github.com/talhahascelik/python_stepwiseSelection"
      ],
      "execution_count": null,
      "outputs": []
    },
    {
      "cell_type": "code",
      "metadata": {
        "colab": {
          "base_uri": "https://localhost:8080/"
        },
        "id": "vUq9j2GN6Lqn",
        "outputId": "665135ae-ce92-4e12-e004-b2cd585e3cba"
      },
      "source": [
        "!pip install -qq corextopic\n",
        "import io\n",
        "import re\n",
        "import nltk\n",
        "import string\n",
        "import numpy as np\n",
        "import pandas as pd\n",
        "import seaborn as sns\n",
        "from statistics import *\n",
        "import scipy.sparse as ss\n",
        "import scipy.stats as stats\n",
        "import matplotlib.pyplot as plt\n",
        "from google.colab import files\n",
        "from IPython.display import HTML\n",
        "from nltk.corpus import stopwords\n",
        "from corextopic import corextopic as ct\n",
        "from sklearn.feature_extraction.text import CountVectorizer\n",
        "\n",
        "nltk.download('wordnet')"
      ],
      "execution_count": null,
      "outputs": [
        {
          "output_type": "stream",
          "text": [
            "[nltk_data] Downloading package wordnet to /root/nltk_data...\n",
            "[nltk_data]   Unzipping corpora/wordnet.zip.\n"
          ],
          "name": "stdout"
        },
        {
          "output_type": "execute_result",
          "data": {
            "text/plain": [
              "True"
            ]
          },
          "metadata": {
            "tags": []
          },
          "execution_count": 3
        }
      ]
    },
    {
      "cell_type": "code",
      "metadata": {
        "id": "geeSdyNt6Lqr",
        "outputId": "7d452f71-40be-4aba-eaa4-0c3e3c8d06ba"
      },
      "source": [
        "# Declaring Lemmatization object for data pre-processing \n",
        "WNL = nltk.WordNetLemmatizer()\n",
        "\n",
        "# Importing data\n",
        "uploaded = files.upload()\n",
        "df = pd.read_excel(\"Illinois Hospital Tweets.xlsx\", sheet_name=\"Unique Tweets\")\n",
        "df.head()"
      ],
      "execution_count": null,
      "outputs": [
        {
          "output_type": "execute_result",
          "data": {
            "text/html": [
              "<div>\n",
              "<style scoped>\n",
              "    .dataframe tbody tr th:only-of-type {\n",
              "        vertical-align: middle;\n",
              "    }\n",
              "\n",
              "    .dataframe tbody tr th {\n",
              "        vertical-align: top;\n",
              "    }\n",
              "\n",
              "    .dataframe thead th {\n",
              "        text-align: right;\n",
              "    }\n",
              "</style>\n",
              "<table border=\"1\" class=\"dataframe\">\n",
              "  <thead>\n",
              "    <tr style=\"text-align: right;\">\n",
              "      <th></th>\n",
              "      <th>id</th>\n",
              "      <th>conversation_id</th>\n",
              "      <th>created_at</th>\n",
              "      <th>date</th>\n",
              "      <th>Day</th>\n",
              "      <th>Weekday/Weekend</th>\n",
              "      <th>time</th>\n",
              "      <th>12hr format</th>\n",
              "      <th>Timestamp</th>\n",
              "      <th>Timestamp Category</th>\n",
              "      <th>...</th>\n",
              "      <th>retweet_id</th>\n",
              "      <th>reply_to</th>\n",
              "      <th>retweet_date</th>\n",
              "      <th>translate</th>\n",
              "      <th>trans_src</th>\n",
              "      <th>trans_dest</th>\n",
              "      <th>Followers</th>\n",
              "      <th>Duration</th>\n",
              "      <th>Bucket</th>\n",
              "      <th>Geographical Area</th>\n",
              "    </tr>\n",
              "  </thead>\n",
              "  <tbody>\n",
              "    <tr>\n",
              "      <th>0</th>\n",
              "      <td>1247547267780940032</td>\n",
              "      <td>1247547267780940032</td>\n",
              "      <td>2020-04-07 15:30:21 UTC</td>\n",
              "      <td>2020-04-07</td>\n",
              "      <td>Tuesday</td>\n",
              "      <td>Weekday</td>\n",
              "      <td>15:30:21</td>\n",
              "      <td>03:30:21 PM</td>\n",
              "      <td>0.50</td>\n",
              "      <td>AFTERNOON</td>\n",
              "      <td>...</td>\n",
              "      <td>NaN</td>\n",
              "      <td>[]</td>\n",
              "      <td>NaN</td>\n",
              "      <td>NaN</td>\n",
              "      <td>NaN</td>\n",
              "      <td>NaN</td>\n",
              "      <td>4021</td>\n",
              "      <td>4195</td>\n",
              "      <td>Hospital Promotion</td>\n",
              "      <td>Rural</td>\n",
              "    </tr>\n",
              "    <tr>\n",
              "      <th>1</th>\n",
              "      <td>1224497930859687936</td>\n",
              "      <td>1224497930859687936</td>\n",
              "      <td>2020-02-04 01:00:31 UTC</td>\n",
              "      <td>2020-02-04</td>\n",
              "      <td>Tuesday</td>\n",
              "      <td>Weekday</td>\n",
              "      <td>01:00:31</td>\n",
              "      <td>01:00:31 AM</td>\n",
              "      <td>0.00</td>\n",
              "      <td>NIGHT</td>\n",
              "      <td>...</td>\n",
              "      <td>NaN</td>\n",
              "      <td>[]</td>\n",
              "      <td>NaN</td>\n",
              "      <td>NaN</td>\n",
              "      <td>NaN</td>\n",
              "      <td>NaN</td>\n",
              "      <td>4021</td>\n",
              "      <td>4195</td>\n",
              "      <td>Health Education/Awareness</td>\n",
              "      <td>Rural</td>\n",
              "    </tr>\n",
              "    <tr>\n",
              "      <th>2</th>\n",
              "      <td>1255859924686574080</td>\n",
              "      <td>1255859924686574080</td>\n",
              "      <td>2020-04-30 14:01:53 UTC</td>\n",
              "      <td>2020-04-30</td>\n",
              "      <td>Thursday</td>\n",
              "      <td>Weekday</td>\n",
              "      <td>14:01:53</td>\n",
              "      <td>02:01:53 PM</td>\n",
              "      <td>0.50</td>\n",
              "      <td>AFTERNOON</td>\n",
              "      <td>...</td>\n",
              "      <td>NaN</td>\n",
              "      <td>[]</td>\n",
              "      <td>NaN</td>\n",
              "      <td>NaN</td>\n",
              "      <td>NaN</td>\n",
              "      <td>NaN</td>\n",
              "      <td>4021</td>\n",
              "      <td>4195</td>\n",
              "      <td>Job Posting/Hiring</td>\n",
              "      <td>Rural</td>\n",
              "    </tr>\n",
              "    <tr>\n",
              "      <th>3</th>\n",
              "      <td>1261022636634767104</td>\n",
              "      <td>1261022072869773056</td>\n",
              "      <td>2020-05-14 19:56:39 UTC</td>\n",
              "      <td>2020-05-14</td>\n",
              "      <td>Thursday</td>\n",
              "      <td>Weekday</td>\n",
              "      <td>19:56:39</td>\n",
              "      <td>07:56:39 PM</td>\n",
              "      <td>0.75</td>\n",
              "      <td>EVENING</td>\n",
              "      <td>...</td>\n",
              "      <td>NaN</td>\n",
              "      <td>[{'screen_name': 'pavangk17', 'name': 'pavangk...</td>\n",
              "      <td>NaN</td>\n",
              "      <td>NaN</td>\n",
              "      <td>NaN</td>\n",
              "      <td>NaN</td>\n",
              "      <td>4021</td>\n",
              "      <td>4195</td>\n",
              "      <td>General covid awareness</td>\n",
              "      <td>Rural</td>\n",
              "    </tr>\n",
              "    <tr>\n",
              "      <th>4</th>\n",
              "      <td>1243900897379433984</td>\n",
              "      <td>1243900897379433984</td>\n",
              "      <td>2020-03-28 14:00:59 UTC</td>\n",
              "      <td>2020-03-28</td>\n",
              "      <td>Saturday</td>\n",
              "      <td>Weekend</td>\n",
              "      <td>14:00:59</td>\n",
              "      <td>02:00:59 PM</td>\n",
              "      <td>0.50</td>\n",
              "      <td>AFTERNOON</td>\n",
              "      <td>...</td>\n",
              "      <td>NaN</td>\n",
              "      <td>[]</td>\n",
              "      <td>NaN</td>\n",
              "      <td>NaN</td>\n",
              "      <td>NaN</td>\n",
              "      <td>NaN</td>\n",
              "      <td>4021</td>\n",
              "      <td>4195</td>\n",
              "      <td>Hospital Promotion</td>\n",
              "      <td>Rural</td>\n",
              "    </tr>\n",
              "  </tbody>\n",
              "</table>\n",
              "<p>5 rows × 45 columns</p>\n",
              "</div>"
            ],
            "text/plain": [
              "                    id      conversation_id               created_at  \\\n",
              "0  1247547267780940032  1247547267780940032  2020-04-07 15:30:21 UTC   \n",
              "1  1224497930859687936  1224497930859687936  2020-02-04 01:00:31 UTC   \n",
              "2  1255859924686574080  1255859924686574080  2020-04-30 14:01:53 UTC   \n",
              "3  1261022636634767104  1261022072869773056  2020-05-14 19:56:39 UTC   \n",
              "4  1243900897379433984  1243900897379433984  2020-03-28 14:00:59 UTC   \n",
              "\n",
              "         date       Day Weekday/Weekend      time  12hr format  Timestamp  \\\n",
              "0  2020-04-07   Tuesday         Weekday  15:30:21  03:30:21 PM       0.50   \n",
              "1  2020-02-04   Tuesday         Weekday  01:00:31  01:00:31 AM       0.00   \n",
              "2  2020-04-30  Thursday         Weekday  14:01:53  02:01:53 PM       0.50   \n",
              "3  2020-05-14  Thursday         Weekday  19:56:39  07:56:39 PM       0.75   \n",
              "4  2020-03-28  Saturday         Weekend  14:00:59  02:00:59 PM       0.50   \n",
              "\n",
              "  Timestamp Category  ...  retweet_id  \\\n",
              "0          AFTERNOON  ...         NaN   \n",
              "1              NIGHT  ...         NaN   \n",
              "2          AFTERNOON  ...         NaN   \n",
              "3            EVENING  ...         NaN   \n",
              "4          AFTERNOON  ...         NaN   \n",
              "\n",
              "                                            reply_to retweet_date translate  \\\n",
              "0                                                 []          NaN       NaN   \n",
              "1                                                 []          NaN       NaN   \n",
              "2                                                 []          NaN       NaN   \n",
              "3  [{'screen_name': 'pavangk17', 'name': 'pavangk...          NaN       NaN   \n",
              "4                                                 []          NaN       NaN   \n",
              "\n",
              "  trans_src trans_dest Followers Duration                      Bucket  \\\n",
              "0       NaN        NaN      4021     4195          Hospital Promotion   \n",
              "1       NaN        NaN      4021     4195  Health Education/Awareness   \n",
              "2       NaN        NaN      4021     4195          Job Posting/Hiring   \n",
              "3       NaN        NaN      4021     4195     General covid awareness   \n",
              "4       NaN        NaN      4021     4195          Hospital Promotion   \n",
              "\n",
              "  Geographical Area  \n",
              "0             Rural  \n",
              "1             Rural  \n",
              "2             Rural  \n",
              "3             Rural  \n",
              "4             Rural  \n",
              "\n",
              "[5 rows x 45 columns]"
            ]
          },
          "metadata": {
            "tags": []
          },
          "execution_count": 3
        }
      ]
    },
    {
      "cell_type": "markdown",
      "metadata": {
        "id": "W4CaYmb46Lqs"
      },
      "source": [
        "## <br><br>Data Pre-processing"
      ]
    },
    {
      "cell_type": "code",
      "metadata": {
        "id": "vXtHMdOs6Lqt"
      },
      "source": [
        "# Function to remove emojis rom tweets\n",
        "def remove_emoji(string):\n",
        "    emoji_pattern = re.compile(\"[\"\n",
        "                           u\"\\U0001F600-\\U0001F64F\"  # emoticons\n",
        "                           u\"\\U0001F300-\\U0001F5FF\"  # symbols & pictographs\n",
        "                           u\"\\U0001F680-\\U0001F6FF\"  # transport & map symbols\n",
        "                           u\"\\U0001F1E0-\\U0001F1FF\"  # flags (iOS)\n",
        "                           u\"\\U00002702-\\U000027B0\"\n",
        "                           u\"\\U000024C2-\\U0001F251\"\n",
        "                           \"]+\", flags=re.UNICODE)\n",
        "    return emoji_pattern.sub(r'', string)\n",
        "\n",
        "# Data pre-processing Function\n",
        "def data_preprocessing(tweets_list):\n",
        "    \n",
        "    for i in range(len(tweets_list)):\n",
        "        # Remove emojis\n",
        "        tweets_list[i] = remove_emoji(tweets_list[i])\n",
        "        \n",
        "        # Remove URL\n",
        "        tweets_list[i] = re.sub(r\"http\\S+\", \"\", tweets_list[i])\n",
        "        \n",
        "        # Remove @user_mentions\n",
        "        tweets_list[i] = re.sub(r\"@\\S+\", \"\",tweets_list[i])\n",
        "        \n",
        "        # Converting tweets to lowercase\n",
        "        tweets_list[i] = tweets_list[i].lower()\n",
        "        \n",
        "        # Removing punctuations from tweets\n",
        "        tweets_list[i] = re.sub(r'[^\\w\\s]', ' ', tweets_list[i])\n",
        "        \n",
        "        # Splitting tweet into individual words\n",
        "        tweets_list[i] = tweets_list[i].split()\n",
        "        \n",
        "        # Removing stop words\n",
        "        tweets_list[i] = [word for word in tweets_list[i] if word not in stopwords.words('english')]\n",
        "        \n",
        "        # Performing lemmatization for each word and combining individual words back into a single tweet\n",
        "        tweets_list[i] = \" \".join([WNL.lemmatize(word) for word in tweets_list[i]])\n",
        "                                  \n",
        "    return tweets_list"
      ],
      "execution_count": null,
      "outputs": []
    },
    {
      "cell_type": "code",
      "metadata": {
        "id": "PdSQPC8D6Lqv",
        "outputId": "dac24410-b554-47b8-f6c7-ac321728f59d"
      },
      "source": [
        "# Original Tweets\n",
        "tweets_list = list(df['tweet'])\n",
        "prior = tweets_list[760]\n",
        "tweets_list = data_preprocessing(tweets_list)\n",
        "print(f'Before processing:\\n{prior}\\n\\nAfter Processing:\\n{tweets_list[760]}')"
      ],
      "execution_count": null,
      "outputs": [
        {
          "output_type": "stream",
          "text": [
            "Before processing:\n",
            "Safety first! 👀 Masks, hand sanitizer...thanks to the @Cubs for setting an example on and off the field.👏  https://t.co/sReulNWcNM\n",
            "\n",
            "After Processing:\n",
            "safety first mask hand sanitizer thanks setting example field\n"
          ],
          "name": "stdout"
        }
      ]
    },
    {
      "cell_type": "markdown",
      "metadata": {
        "id": "1uolm_0O6Lqw"
      },
      "source": [
        "## <br><br> Unsupervised: Topic modelling using CorEx"
      ]
    },
    {
      "cell_type": "code",
      "metadata": {
        "id": "GqoU6C5s6Lqw",
        "outputId": "811d18dd-1f9f-43d6-f818-45c439a8464f"
      },
      "source": [
        "# Converting the data into a sparse matrix\n",
        "vectorizer = CountVectorizer(stop_words='english', max_features=None, binary=True, ngram_range=(1,2))\n",
        "doc_word = vectorizer.fit_transform(tweets_list)\n",
        "doc_word = ss.csr_matrix(doc_word)\n",
        "\n",
        "doc_word.shape # n_docs x m_words"
      ],
      "execution_count": null,
      "outputs": [
        {
          "output_type": "execute_result",
          "data": {
            "text/plain": [
              "(11061, 109783)"
            ]
          },
          "metadata": {
            "tags": []
          },
          "execution_count": 6
        }
      ]
    },
    {
      "cell_type": "markdown",
      "metadata": {
        "id": "zUTy2eWW6Lqx"
      },
      "source": [
        "The <b>doc_word</b> matrix comprises of 11061 rows (each representing an individual tweet) and 109783 columns (each representing a unigram/bigram from the corpus) <br><br>"
      ]
    },
    {
      "cell_type": "markdown",
      "metadata": {
        "id": "3IbtjVhj6Lqy"
      },
      "source": [
        "The number of columns in <b>doc_word</b> matrix can further be reduced if we remove the numbers"
      ]
    },
    {
      "cell_type": "code",
      "metadata": {
        "id": "J5HAjXMl6Lqz",
        "outputId": "ba19d208-b6c0-47be-ef3c-f245c4219e12"
      },
      "source": [
        "# Fetching the list of words\n",
        "words = list(np.asarray(vectorizer.get_feature_names()))\n",
        "\n",
        "# Extracting only words and ignoring the digits (numbers)\n",
        "words = [word for ind,word in enumerate(words) if not word.isdigit()]\n",
        "\n",
        "# Extracting the indices only for words and ignoring the digits\n",
        "not_digit_inds = [ind for ind,word in enumerate(words) if not word.isdigit()]\n",
        "\n",
        "# Subsetting the matrix based on the above indices extracted \n",
        "doc_word = doc_word[:,not_digit_inds]\n",
        "\n",
        "doc_word.shape"
      ],
      "execution_count": null,
      "outputs": [
        {
          "output_type": "execute_result",
          "data": {
            "text/plain": [
              "(11061, 109263)"
            ]
          },
          "metadata": {
            "tags": []
          },
          "execution_count": 7
        }
      ]
    },
    {
      "cell_type": "markdown",
      "metadata": {
        "id": "p5h1CUSg6Lq0"
      },
      "source": [
        "The number of words (columns) after ignoring all the numbers has now reduced to 109263<br><br>"
      ]
    },
    {
      "cell_type": "code",
      "metadata": {
        "id": "u5Bff_KO6Lq0",
        "outputId": "35a43376-702d-4672-a7f9-eddbe9fb2002"
      },
      "source": [
        "# Training the corex model with 10 topics\n",
        "topic_model = ct.Corex(n_hidden=10, words=words, max_iter=200, verbose=False, seed=1)\n",
        "topic_model.fit(doc_word, words=words)"
      ],
      "execution_count": null,
      "outputs": [
        {
          "output_type": "execute_result",
          "data": {
            "text/plain": [
              "<corextopic.corextopic.Corex at 0x1cd6b15a488>"
            ]
          },
          "metadata": {
            "tags": []
          },
          "execution_count": 8
        }
      ]
    },
    {
      "cell_type": "code",
      "metadata": {
        "id": "6CmQNY8h6Lq1",
        "outputId": "2939e7fb-80e5-4451-ad7b-8d765998ad89"
      },
      "source": [
        "# Print all topics from the CorEx topic model\n",
        "topics = topic_model.get_topics()\n",
        "for n,topic in enumerate(topics):\n",
        "    topic_words,_ = zip(*topic)\n",
        "    print('{}: '.format(n) + ','.join(topic_words))"
      ],
      "execution_count": null,
      "outputs": [
        {
          "output_type": "stream",
          "text": [
            "0: meiner,megan wright,certification obstetric,use service,rademaker,hosted,washington street,bushue achieve,board commissioner,sticking food\n",
            "1: elli experience,ranked mask,vehicle arrive,sunday try,sunlight funk,privacy,ranking hospital,elizabeth pieroth,sunny mesa,wellness visit\n",
            "2: ago tip,care child,ago remains,apply donor,8pm est,mask evidence,visitor week,service currently,supporting patient,column qc\n",
            "3: curve meet,cut oven,carmen rosario,air pollution,hope resolve,box hanging,superbowl2020,provide limited,precaution minimize,hope promise\n",
            "4: rooney md,heart goredforwomen,website rush,image printable,image provided,heart happen,website subscribe,1000 checking,hoffmanestates award,receive professional\n",
            "5: megan defrates,hosting shoe,herb flower,carle_docs,activity safely,thing hand,emerald,emerald circle,air advocate,year bachelor\n",
            "6: cardinal,attends carle,distancing webinar,robot deployed,inpatient exception,inpatient child,create culture,raise hand,care constantly,dan olivett\n",
            "7: screening detect,area secure,vp ambulatory,professional search,pulmonologist majid,professional result,visit physician,screening enhance,corp recently,care wondering\n",
            "8: crate,crate coffee,19 digital,mayaangelou,completed fall,starting symptom,thanks passionate,health today,dr imran,covid19 preparedness\n",
            "9: helping flatten,protecting family,migranes,mike,aug 27th,meatlessmonday,late sign,impact heart,safe maskuphoosiers,remain safe\n"
          ],
          "name": "stdout"
        }
      ]
    },
    {
      "cell_type": "code",
      "metadata": {
        "id": "7vjuyaiQ6Lq8",
        "outputId": "5e6f38dd-03f9-4423-8dee-e89aafe1699e"
      },
      "source": [
        "print(f'Total correlation = {round(topic_model.tc,4)}')"
      ],
      "execution_count": null,
      "outputs": [
        {
          "output_type": "stream",
          "text": [
            "Total correlation = 23.699\n"
          ],
          "name": "stdout"
        }
      ]
    },
    {
      "cell_type": "markdown",
      "metadata": {
        "id": "hpm06oks6Lq9"
      },
      "source": [
        "## <br><br> Semi-supervised: Anchored CorEx"
      ]
    },
    {
      "cell_type": "code",
      "metadata": {
        "id": "WL8uy-rC6Lq-"
      },
      "source": [
        "anchor_words = [\n",
        "    #0 Job Posting/Hiring\n",
        "    [\"experience\", \"position\", \"hire\", \"looking\", \"certified\", \"looking hire\", \"join team\", \"service looking\", \"extensive onsite\", \n",
        "     \"onsite service\", \"food service\", \"certification\"],\n",
        "    \n",
        "    #1 Hospital Promotion\n",
        "    [\"provide\", \"offer\", \"service\", \"partner\", \"surgeon\", \"medical center\", \"family medicine\", \"health foundation\",\n",
        "     \"minimally invasive\", \"high quality\", \"visit website\", \"general surgery\", \"appointment\", \"medical group\", \"care wondering\",\n",
        "     \"immediate care\", \"state art\", \"primary care\", \"health center\", \"robotic surgery\", \"board certified\", \"advancement\"],\n",
        "    \n",
        "    #2 Health Education/Awareness\n",
        "    [\"cancer\", \"heart\", \"awareness\", \"screening\", \"blog\", \"exercise\", \"heart disease\", \"awareness month\", \"colon cancer\", \n",
        "     \"mental health\", \"reduce risk\", \"colorectal cancer\", \"cancer awareness\", \"heart health\", \"blood pressure\", \"heart attack\"],\n",
        "    \n",
        "    #3 Award/Achievement/Appreciation\n",
        "    [\"thank\", \"appreciation\", \"congratulation\", \"award\", \"recognition\", \"frontline\", \"help ensure\", \"care patient\",\n",
        "     \"assessment program\", \"hospital assessment\", \"medicaid program\", \"access quality\", \"quality hospital\", \"thank support\",\n",
        "     \"award\", \"big thank\", \"community thank\", \"thank sharing\", \"thank nurse\", \"thank staff\", \n",
        "     \"thank supporting\", \"staff thank\", \"thanks appreciation\"],\n",
        "    \n",
        "    #4 Event \n",
        "    [\"register\", \"event\", \"join\", \"discussion\", \"schedule\", \"donate\", \"donation\", \"cancer screening\", \"blood drive\", \n",
        "     \"time register\", \"info register\", \"free virtual\", \"invite join\", \"panel\", \"blood donation\",  \"question using\", \n",
        "     \"panel discussion\",  \"twitter chat\", \"live\", \"cancer management\", \"advancement cancer\", \"flu shot\",\"mobile health\",\n",
        "     \"residency program\", \"registration\"],\n",
        "    \n",
        "    #5 Covid specific event\n",
        "    [\"testing\", \"clinic\", \"symptomatic\", \"non symptomatic\", \"interested tested\", \"care connect\"],\n",
        "    \n",
        "    #6 General covid awareness\n",
        "    [\"cdc\", \"mask\", \"hand\", \"wash\", \"guideline\", \"stay home\", \"wear mask\", \"wash hand\", \"social distancing\", \"spread covid\", \n",
        "     \"mask public\", \"social distance\", \"face covering\", \"wearing mask\", \"reduce spread\", \"cloth face\", \"ventilator\"], \n",
        "    \n",
        "    #7 Hospital specific covid education\n",
        "    [\"doctor\", \"dr\", \"expert\", \"help\", \"ask\", \"infection\",\"askdrmarkman\", \"chief medical\", \"medical officer\", \"president ceo\", \n",
        "     \"vp chief\", \"answer question\", \"disease expert\", \"offer tip\", \"officer dr\", \"staff sharing\", \"expert say\", \"answered\"],\n",
        "    \n",
        "    #8 Covid Policy Changes/hospital changes\n",
        "    [\"visitor\", \"hotline\", \"policy\",\"screening\", \"patient visitor\", \"visitor guideline\", \"new visitor\", \"visitor restriction\", \n",
        "     \"visitor policy\", \"safety patient\", \"health safety\", \"visitor staff\", \"virtual solution\"],\n",
        "    \n",
        "    #9 Miscellaneous\n",
        "    [\"census\", \"dissatisfaction\", \"valentinesday\", \"superbowl\", \"football\", \"new year\", \"happynewyear\", \"experienced patient\", \n",
        "     \"patient relation\", \"happy birthday\", \"relation team\", \"apologize dissatisfaction\", \"feedback welcome\", \"patient relation\"]\n",
        "]"
      ],
      "execution_count": null,
      "outputs": []
    },
    {
      "cell_type": "code",
      "metadata": {
        "id": "Vfk_5_3i6LrH",
        "outputId": "78a0ef80-bf5e-4ca1-a452-7f7c523401fe"
      },
      "source": [
        "anchored_topic_model = ct.Corex(n_hidden=10, seed=1)\n",
        "anchored_topic_model.fit(doc_word, words=words, anchors=anchor_words, anchor_strength=8)"
      ],
      "execution_count": null,
      "outputs": [
        {
          "output_type": "execute_result",
          "data": {
            "text/plain": [
              "<corextopic.corextopic.Corex at 0x1cd6bafb5c8>"
            ]
          },
          "metadata": {
            "tags": []
          },
          "execution_count": 12
        }
      ]
    },
    {
      "cell_type": "code",
      "metadata": {
        "id": "rYuP7ve16LrP",
        "outputId": "e78dfdf9-ee15-47db-c366-f9362071ed4a"
      },
      "source": [
        "topics = anchored_topic_model.get_topics()\n",
        "for n,topic in enumerate(topics):\n",
        "    topic_words,_ = zip(*topic)\n",
        "    print('{}: '.format(n) + ','.join(topic_words[:7]))"
      ],
      "execution_count": null,
      "outputs": [
        {
          "output_type": "stream",
          "text": [
            "0: extensive onsite,position,certification,join team,looking hire,food service,certified\n",
            "1: care wondering,healthcare caring,provide,medical center,robotic surgery,immediate care,carle_docs\n",
            "2: blood pressure,heart health,screening,colorectal cancer,heart attack,cancer awareness,awareness\n",
            "3: thank staff,appreciation,thank nurse,award,care patient,help ensure,thank\n",
            "4: discussion,megan wright,completed fall,meiner,flu shot,time register,crate\n",
            "5: symptomatic,non symptomatic,clinic,interested tested,care connect,care eye,zvi\n",
            "6: room main,rooney md,healthy relationship,wearing mask,social distancing,social distance,teen facing\n",
            "7: dr,expert,chief medical,answered,officer dr,askdrmarkman,disease expert\n",
            "8: screening,visitor policy,safety patient,visitor staff,policy,new visitor,health safety\n",
            "9: census,relation team,football,experienced patient,apologize dissatisfaction,patient relation,happynewyear\n"
          ],
          "name": "stdout"
        }
      ]
    },
    {
      "cell_type": "code",
      "metadata": {
        "id": "xYipRMaQ6LrQ"
      },
      "source": [
        "bucket_list = []\n",
        "\n",
        "num_to_bucket = {0:\"Job Posting/Hiring\", 1:\"Hospital Promotion\", 2:\"Health Education/Awareness\",\n",
        "                 3:\"Award/Achievement/Appreciation\", 4:\"Event\", 5:\"Covid specific event\",\n",
        "                 6:\"General covid awareness\", 7:\"Hospital specific covid education\", 8:\"Covid Policy Changes/hospital changes\", \n",
        "                 9:\"Miscellaneous\"}\n",
        "\n",
        "for i in range(anchored_topic_model.labels.shape[0]):\n",
        "    logz_list = list(anchored_topic_model.log_z[i])\n",
        "    indx = logz_list.index(max(logz_list))\n",
        "    bucket_list.append(num_to_bucket[indx])\n",
        "    \n",
        "df[\"Topic\"] = bucket_list"
      ],
      "execution_count": null,
      "outputs": []
    },
    {
      "cell_type": "code",
      "metadata": {
        "id": "ecS9p1Ev6LrR",
        "outputId": "5d021a59-ddbc-4511-c387-0a6f78cd0937"
      },
      "source": [
        "anchored_topic_model.tc"
      ],
      "execution_count": null,
      "outputs": [
        {
          "output_type": "execute_result",
          "data": {
            "text/plain": [
              "63.83320452884636"
            ]
          },
          "metadata": {
            "tags": []
          },
          "execution_count": 15
        }
      ]
    },
    {
      "cell_type": "markdown",
      "metadata": {
        "id": "yOjDjRx46LrR"
      },
      "source": [
        "The topics seggregated based on the provided anchor words now are in line with the topics defines by us. Also the overall correlation of the semi-supervised model has doubled comapred to unsupervised model indicating the words grouped together under the topics are more correlated (make better sense)"
      ]
    },
    {
      "cell_type": "markdown",
      "metadata": {
        "id": "2_7J3zPu6LrS"
      },
      "source": [
        "# <br><br><center>HYPOTHESIS TESTING</center>"
      ]
    },
    {
      "cell_type": "code",
      "metadata": {
        "id": "vfVE793I6LrS",
        "outputId": "ede4c289-697c-494f-a76e-1b9600cf7287"
      },
      "source": [
        "df = df[[\"id\", \"created_at\", \"Weekday/Weekend\", \"Timestamp Category\", \"username\", \"name\", \"tweet\", \"Followers\", \"Duration\",\n",
        "         \"Topic\", \"Geographical Area\", \"video\", \"likes_count\", \"retweets_count\"]]\n",
        "\n",
        "df = df.rename(columns={\"id\":'Tweet ID', 'created_at':'Created at', 'Weekday/Weekend':'Day', 'Timestamp Category':'Time of day',\n",
        "                        'username':'Handle Name', 'name':'Hospital', 'tweet':'Tweet', 'Followers':'Number of Followers',\n",
        "                        'Duration':'Days since account creation', 'video':'Media', 'likes_count':'Likes', \n",
        "                        'retweets_count':'Retweets'})\n",
        "df.head()"
      ],
      "execution_count": null,
      "outputs": [
        {
          "output_type": "execute_result",
          "data": {
            "text/html": [
              "<div>\n",
              "<style scoped>\n",
              "    .dataframe tbody tr th:only-of-type {\n",
              "        vertical-align: middle;\n",
              "    }\n",
              "\n",
              "    .dataframe tbody tr th {\n",
              "        vertical-align: top;\n",
              "    }\n",
              "\n",
              "    .dataframe thead th {\n",
              "        text-align: right;\n",
              "    }\n",
              "</style>\n",
              "<table border=\"1\" class=\"dataframe\">\n",
              "  <thead>\n",
              "    <tr style=\"text-align: right;\">\n",
              "      <th></th>\n",
              "      <th>Tweet ID</th>\n",
              "      <th>Created at</th>\n",
              "      <th>Day</th>\n",
              "      <th>Time of day</th>\n",
              "      <th>Handle Name</th>\n",
              "      <th>Hospital</th>\n",
              "      <th>Tweet</th>\n",
              "      <th>Number of Followers</th>\n",
              "      <th>Days since account creation</th>\n",
              "      <th>Topic</th>\n",
              "      <th>Geographical Area</th>\n",
              "      <th>Media</th>\n",
              "      <th>Likes</th>\n",
              "      <th>Retweets</th>\n",
              "    </tr>\n",
              "  </thead>\n",
              "  <tbody>\n",
              "    <tr>\n",
              "      <th>0</th>\n",
              "      <td>1247547267780940032</td>\n",
              "      <td>2020-04-07 15:30:21 UTC</td>\n",
              "      <td>Weekday</td>\n",
              "      <td>AFTERNOON</td>\n",
              "      <td>amitahealth</td>\n",
              "      <td>AMITA Health</td>\n",
              "      <td>When it comes to global health, we're all in i...</td>\n",
              "      <td>4021</td>\n",
              "      <td>4195</td>\n",
              "      <td>Hospital Promotion</td>\n",
              "      <td>Rural</td>\n",
              "      <td>1</td>\n",
              "      <td>3</td>\n",
              "      <td>1</td>\n",
              "    </tr>\n",
              "    <tr>\n",
              "      <th>1</th>\n",
              "      <td>1224497930859687936</td>\n",
              "      <td>2020-02-04 01:00:31 UTC</td>\n",
              "      <td>Weekday</td>\n",
              "      <td>NIGHT</td>\n",
              "      <td>amitahealth</td>\n",
              "      <td>AMITA Health</td>\n",
              "      <td>Leap forward with us at the Inaugural #AMITAhe...</td>\n",
              "      <td>4021</td>\n",
              "      <td>4195</td>\n",
              "      <td>Health Education/Awareness</td>\n",
              "      <td>Rural</td>\n",
              "      <td>1</td>\n",
              "      <td>1</td>\n",
              "      <td>1</td>\n",
              "    </tr>\n",
              "    <tr>\n",
              "      <th>2</th>\n",
              "      <td>1255859924686574080</td>\n",
              "      <td>2020-04-30 14:01:53 UTC</td>\n",
              "      <td>Weekday</td>\n",
              "      <td>AFTERNOON</td>\n",
              "      <td>amitahealth</td>\n",
              "      <td>AMITA Health</td>\n",
              "      <td>If you have tested positive for COVID-19 and r...</td>\n",
              "      <td>4021</td>\n",
              "      <td>4195</td>\n",
              "      <td>Job Posting/Hiring</td>\n",
              "      <td>Rural</td>\n",
              "      <td>1</td>\n",
              "      <td>3</td>\n",
              "      <td>1</td>\n",
              "    </tr>\n",
              "    <tr>\n",
              "      <th>3</th>\n",
              "      <td>1261022636634767104</td>\n",
              "      <td>2020-05-14 19:56:39 UTC</td>\n",
              "      <td>Weekday</td>\n",
              "      <td>EVENING</td>\n",
              "      <td>amitahealth</td>\n",
              "      <td>AMITA Health</td>\n",
              "      <td>@pavangk17 Thank you for bringing to our atten...</td>\n",
              "      <td>4021</td>\n",
              "      <td>4195</td>\n",
              "      <td>General covid awareness</td>\n",
              "      <td>Rural</td>\n",
              "      <td>0</td>\n",
              "      <td>1</td>\n",
              "      <td>2</td>\n",
              "    </tr>\n",
              "    <tr>\n",
              "      <th>4</th>\n",
              "      <td>1243900897379433984</td>\n",
              "      <td>2020-03-28 14:00:59 UTC</td>\n",
              "      <td>Weekend</td>\n",
              "      <td>AFTERNOON</td>\n",
              "      <td>amitahealth</td>\n",
              "      <td>AMITA Health</td>\n",
              "      <td>Stay informed! Check the link below for the la...</td>\n",
              "      <td>4021</td>\n",
              "      <td>4195</td>\n",
              "      <td>Hospital Promotion</td>\n",
              "      <td>Rural</td>\n",
              "      <td>0</td>\n",
              "      <td>1</td>\n",
              "      <td>0</td>\n",
              "    </tr>\n",
              "  </tbody>\n",
              "</table>\n",
              "</div>"
            ],
            "text/plain": [
              "              Tweet ID               Created at      Day Time of day  \\\n",
              "0  1247547267780940032  2020-04-07 15:30:21 UTC  Weekday   AFTERNOON   \n",
              "1  1224497930859687936  2020-02-04 01:00:31 UTC  Weekday       NIGHT   \n",
              "2  1255859924686574080  2020-04-30 14:01:53 UTC  Weekday   AFTERNOON   \n",
              "3  1261022636634767104  2020-05-14 19:56:39 UTC  Weekday     EVENING   \n",
              "4  1243900897379433984  2020-03-28 14:00:59 UTC  Weekend   AFTERNOON   \n",
              "\n",
              "   Handle Name      Hospital  \\\n",
              "0  amitahealth  AMITA Health   \n",
              "1  amitahealth  AMITA Health   \n",
              "2  amitahealth  AMITA Health   \n",
              "3  amitahealth  AMITA Health   \n",
              "4  amitahealth  AMITA Health   \n",
              "\n",
              "                                               Tweet  Number of Followers  \\\n",
              "0  When it comes to global health, we're all in i...                 4021   \n",
              "1  Leap forward with us at the Inaugural #AMITAhe...                 4021   \n",
              "2  If you have tested positive for COVID-19 and r...                 4021   \n",
              "3  @pavangk17 Thank you for bringing to our atten...                 4021   \n",
              "4  Stay informed! Check the link below for the la...                 4021   \n",
              "\n",
              "   Days since account creation                       Topic Geographical Area  \\\n",
              "0                         4195          Hospital Promotion             Rural   \n",
              "1                         4195  Health Education/Awareness             Rural   \n",
              "2                         4195          Job Posting/Hiring             Rural   \n",
              "3                         4195     General covid awareness             Rural   \n",
              "4                         4195          Hospital Promotion             Rural   \n",
              "\n",
              "   Media  Likes  Retweets  \n",
              "0      1      3         1  \n",
              "1      1      1         1  \n",
              "2      1      3         1  \n",
              "3      0      1         2  \n",
              "4      0      1         0  "
            ]
          },
          "metadata": {
            "tags": []
          },
          "execution_count": 16
        }
      ]
    },
    {
      "cell_type": "code",
      "metadata": {
        "colab": {
          "resources": {
            "http://localhost:8080/nbextensions/google.colab/files.js": {
              "data": "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",
              "ok": true,
              "headers": [
                [
                  "content-type",
                  "application/javascript"
                ]
              ],
              "status": 200,
              "status_text": ""
            }
          },
          "base_uri": "https://localhost:8080/",
          "height": 595
        },
        "id": "4v8GAP5m6LrU",
        "outputId": "69153372-c263-470f-8c4c-6599cff84ca1"
      },
      "source": [
        "uploaded = files.upload()\n",
        "df = pd.read_excel(\"Illinois Hospital Tweets.xlsx\", \"Illinois Hospital Tweets\")\n",
        "df.head()"
      ],
      "execution_count": null,
      "outputs": [
        {
          "output_type": "display_data",
          "data": {
            "text/html": [
              "\n",
              "     <input type=\"file\" id=\"files-e76b8d5f-c9af-4a42-80c4-7ea6c89ef574\" name=\"files[]\" multiple disabled\n",
              "        style=\"border:none\" />\n",
              "     <output id=\"result-e76b8d5f-c9af-4a42-80c4-7ea6c89ef574\">\n",
              "      Upload widget is only available when the cell has been executed in the\n",
              "      current browser session. Please rerun this cell to enable.\n",
              "      </output>\n",
              "      <script src=\"/nbextensions/google.colab/files.js\"></script> "
            ],
            "text/plain": [
              "<IPython.core.display.HTML object>"
            ]
          },
          "metadata": {
            "tags": []
          }
        },
        {
          "output_type": "stream",
          "text": [
            "Saving Illinois Hospital Tweets.xlsx to Illinois Hospital Tweets.xlsx\n"
          ],
          "name": "stdout"
        },
        {
          "output_type": "execute_result",
          "data": {
            "text/html": [
              "<div>\n",
              "<style scoped>\n",
              "    .dataframe tbody tr th:only-of-type {\n",
              "        vertical-align: middle;\n",
              "    }\n",
              "\n",
              "    .dataframe tbody tr th {\n",
              "        vertical-align: top;\n",
              "    }\n",
              "\n",
              "    .dataframe thead th {\n",
              "        text-align: right;\n",
              "    }\n",
              "</style>\n",
              "<table border=\"1\" class=\"dataframe\">\n",
              "  <thead>\n",
              "    <tr style=\"text-align: right;\">\n",
              "      <th></th>\n",
              "      <th>Tweet ID</th>\n",
              "      <th>Created at</th>\n",
              "      <th>Day</th>\n",
              "      <th>Time of day</th>\n",
              "      <th>Handle Name</th>\n",
              "      <th>Hospital</th>\n",
              "      <th>Tweet</th>\n",
              "      <th>Number of Followers</th>\n",
              "      <th>Days since account creation</th>\n",
              "      <th>Bucket</th>\n",
              "      <th>Geographical Area</th>\n",
              "      <th>Video</th>\n",
              "      <th>Likes</th>\n",
              "      <th>Retweets</th>\n",
              "    </tr>\n",
              "  </thead>\n",
              "  <tbody>\n",
              "    <tr>\n",
              "      <th>0</th>\n",
              "      <td>1247547267780940032</td>\n",
              "      <td>2020-04-07 15:30:21 UTC</td>\n",
              "      <td>Weekday</td>\n",
              "      <td>AFTERNOON</td>\n",
              "      <td>amitahealth</td>\n",
              "      <td>AMITA Health</td>\n",
              "      <td>When it comes to global health, we're all in i...</td>\n",
              "      <td>4021</td>\n",
              "      <td>4195</td>\n",
              "      <td>Hospital Promotion</td>\n",
              "      <td>Rural</td>\n",
              "      <td>1</td>\n",
              "      <td>3</td>\n",
              "      <td>1</td>\n",
              "    </tr>\n",
              "    <tr>\n",
              "      <th>1</th>\n",
              "      <td>1224497930859687936</td>\n",
              "      <td>2020-02-04 01:00:31 UTC</td>\n",
              "      <td>Weekday</td>\n",
              "      <td>NIGHT</td>\n",
              "      <td>amitahealth</td>\n",
              "      <td>AMITA Health</td>\n",
              "      <td>Leap forward with us at the Inaugural #AMITAhe...</td>\n",
              "      <td>4021</td>\n",
              "      <td>4195</td>\n",
              "      <td>Health Education/Awareness</td>\n",
              "      <td>Rural</td>\n",
              "      <td>1</td>\n",
              "      <td>1</td>\n",
              "      <td>1</td>\n",
              "    </tr>\n",
              "    <tr>\n",
              "      <th>2</th>\n",
              "      <td>1255859924686574080</td>\n",
              "      <td>2020-04-30 14:01:53 UTC</td>\n",
              "      <td>Weekday</td>\n",
              "      <td>AFTERNOON</td>\n",
              "      <td>amitahealth</td>\n",
              "      <td>AMITA Health</td>\n",
              "      <td>If you have tested positive for COVID-19 and r...</td>\n",
              "      <td>4021</td>\n",
              "      <td>4195</td>\n",
              "      <td>Job Posting/Hiring</td>\n",
              "      <td>Rural</td>\n",
              "      <td>1</td>\n",
              "      <td>3</td>\n",
              "      <td>1</td>\n",
              "    </tr>\n",
              "    <tr>\n",
              "      <th>3</th>\n",
              "      <td>1261022636634767104</td>\n",
              "      <td>2020-05-14 19:56:39 UTC</td>\n",
              "      <td>Weekday</td>\n",
              "      <td>EVENING</td>\n",
              "      <td>amitahealth</td>\n",
              "      <td>AMITA Health</td>\n",
              "      <td>@pavangk17 Thank you for bringing to our atten...</td>\n",
              "      <td>4021</td>\n",
              "      <td>4195</td>\n",
              "      <td>General covid awareness</td>\n",
              "      <td>Rural</td>\n",
              "      <td>0</td>\n",
              "      <td>1</td>\n",
              "      <td>2</td>\n",
              "    </tr>\n",
              "    <tr>\n",
              "      <th>4</th>\n",
              "      <td>1243900897379433984</td>\n",
              "      <td>2020-03-28 14:00:59 UTC</td>\n",
              "      <td>Weekend</td>\n",
              "      <td>AFTERNOON</td>\n",
              "      <td>amitahealth</td>\n",
              "      <td>AMITA Health</td>\n",
              "      <td>Stay informed! Check the link below for the la...</td>\n",
              "      <td>4021</td>\n",
              "      <td>4195</td>\n",
              "      <td>Hospital Promotion</td>\n",
              "      <td>Rural</td>\n",
              "      <td>0</td>\n",
              "      <td>1</td>\n",
              "      <td>0</td>\n",
              "    </tr>\n",
              "  </tbody>\n",
              "</table>\n",
              "</div>"
            ],
            "text/plain": [
              "              Tweet ID               Created at  ... Likes Retweets\n",
              "0  1247547267780940032  2020-04-07 15:30:21 UTC  ...     3        1\n",
              "1  1224497930859687936  2020-02-04 01:00:31 UTC  ...     1        1\n",
              "2  1255859924686574080  2020-04-30 14:01:53 UTC  ...     3        1\n",
              "3  1261022636634767104  2020-05-14 19:56:39 UTC  ...     1        2\n",
              "4  1243900897379433984  2020-03-28 14:00:59 UTC  ...     1        0\n",
              "\n",
              "[5 rows x 14 columns]"
            ]
          },
          "metadata": {
            "tags": []
          },
          "execution_count": 4
        }
      ]
    },
    {
      "cell_type": "markdown",
      "metadata": {
        "id": "Zg2bL4XB6LrV"
      },
      "source": [
        "## <br><font color=\"orange\">T-test</font>"
      ]
    },
    {
      "cell_type": "markdown",
      "metadata": {
        "id": "er4U_Jd66LrW"
      },
      "source": [
        "### Day"
      ]
    },
    {
      "cell_type": "code",
      "metadata": {
        "id": "KDHub7R76LrW"
      },
      "source": [
        "wkday = df[df[\"Day\"]==\"Weekday\"]\n",
        "wkend = df[df[\"Day\"]==\"Weekend\"]"
      ],
      "execution_count": null,
      "outputs": []
    },
    {
      "cell_type": "code",
      "metadata": {
        "id": "X8cL3drS6LrX",
        "outputId": "bd16e837-511d-4d03-981f-7af8572611c7"
      },
      "source": [
        "stats.ttest_ind(wkday['Likes'], wkend['Likes'])"
      ],
      "execution_count": null,
      "outputs": [
        {
          "output_type": "execute_result",
          "data": {
            "text/plain": [
              "Ttest_indResult(statistic=-0.6299689666187421, pvalue=0.5287279037602568)"
            ]
          },
          "metadata": {
            "tags": []
          },
          "execution_count": 19
        }
      ]
    },
    {
      "cell_type": "code",
      "metadata": {
        "id": "CGIlQlr-6LrY",
        "outputId": "8c05b6c8-42b0-4bd3-81f0-e4c47d5f812b"
      },
      "source": [
        "stats.ttest_ind(wkday['Retweets'], wkend['Retweets'])"
      ],
      "execution_count": null,
      "outputs": [
        {
          "output_type": "execute_result",
          "data": {
            "text/plain": [
              "Ttest_indResult(statistic=0.03433938695291021, pvalue=0.9726071368686582)"
            ]
          },
          "metadata": {
            "tags": []
          },
          "execution_count": 20
        }
      ]
    },
    {
      "cell_type": "markdown",
      "metadata": {
        "id": "B9V4Eh8q6LrY"
      },
      "source": [
        "The p-value of the is greater than 0.05 for both likes and re-tweets. Hence we can confirm that there is <b><font color = \"red\">no statistical difference </font></b>in the number of likes and retweets a tweet receives based on when tweet was tweeted, <b><font color = \"blue\">weekend</font></b> (or) <b><font color = \"blue\">weekday</font></b>"
      ]
    },
    {
      "cell_type": "markdown",
      "metadata": {
        "id": "G18sVLP46LrZ"
      },
      "source": [
        "### Geographical Area"
      ]
    },
    {
      "cell_type": "code",
      "metadata": {
        "id": "YvPdqiPe6LrZ"
      },
      "source": [
        "rural = df[df[\"Geographical Area\"]==\"Rural\"]\n",
        "urban = df[df[\"Geographical Area\"]==\"Urban\"]"
      ],
      "execution_count": null,
      "outputs": []
    },
    {
      "cell_type": "code",
      "metadata": {
        "id": "vForsHNj6Lra",
        "outputId": "8427920b-3f7c-432a-b056-7a96b7476fa1"
      },
      "source": [
        "stats.ttest_ind(rural['Likes'], rural['Likes'])"
      ],
      "execution_count": null,
      "outputs": [
        {
          "output_type": "execute_result",
          "data": {
            "text/plain": [
              "Ttest_indResult(statistic=0.0, pvalue=1.0)"
            ]
          },
          "metadata": {
            "tags": []
          },
          "execution_count": 22
        }
      ]
    },
    {
      "cell_type": "code",
      "metadata": {
        "id": "S0asL0mk6Lrb",
        "outputId": "24388591-6da4-4646-c06d-6fa77ed99276"
      },
      "source": [
        "stats.ttest_ind(urban['Retweets'], urban['Retweets'])"
      ],
      "execution_count": null,
      "outputs": [
        {
          "output_type": "execute_result",
          "data": {
            "text/plain": [
              "Ttest_indResult(statistic=0.0, pvalue=1.0)"
            ]
          },
          "metadata": {
            "tags": []
          },
          "execution_count": 23
        }
      ]
    },
    {
      "cell_type": "markdown",
      "metadata": {
        "id": "xhnvkyKJ6Lrc"
      },
      "source": [
        "The p-value of the is greater than 0.05 for both likes and re-tweets. Hence we can confirm that there is <b><font color = \"red\">no statistical difference </font></b>in the number of likes and retweets a tweet receives based on the geographical location of the hospital, <b><font color = \"blue\">rural</font></b> (or) <b><font color = \"blue\">urban</font></b>"
      ]
    },
    {
      "cell_type": "markdown",
      "metadata": {
        "id": "2_XnManK6Lrc"
      },
      "source": [
        "### Media"
      ]
    },
    {
      "cell_type": "code",
      "metadata": {
        "id": "omMxqtuZ6Lrd"
      },
      "source": [
        "media_yes = df[df[\"Media\"]==1]\n",
        "media_no = df[df[\"Media\"]==0]"
      ],
      "execution_count": null,
      "outputs": []
    },
    {
      "cell_type": "code",
      "metadata": {
        "id": "LjnhA5UO6Lrd",
        "outputId": "afcff43b-1001-491c-f375-fd7f2739476d"
      },
      "source": [
        "stats.ttest_ind(media_yes['Likes'], media_no['Likes'])"
      ],
      "execution_count": null,
      "outputs": [
        {
          "output_type": "execute_result",
          "data": {
            "text/plain": [
              "Ttest_indResult(statistic=7.828500833758397, pvalue=5.387807961263879e-15)"
            ]
          },
          "metadata": {
            "tags": []
          },
          "execution_count": 25
        }
      ]
    },
    {
      "cell_type": "code",
      "metadata": {
        "id": "5Kc_U6dy6Lre",
        "outputId": "49848b05-86c9-411b-e8c3-65dbebb184ce"
      },
      "source": [
        "stats.ttest_ind(media_yes['Retweets'], media_no['Retweets'])"
      ],
      "execution_count": null,
      "outputs": [
        {
          "output_type": "execute_result",
          "data": {
            "text/plain": [
              "Ttest_indResult(statistic=5.991468771923947, pvalue=2.1443106754853373e-09)"
            ]
          },
          "metadata": {
            "tags": []
          },
          "execution_count": 26
        }
      ]
    },
    {
      "cell_type": "markdown",
      "metadata": {
        "id": "Ugya6aWm6Lre"
      },
      "source": [
        "The p-value of the is lower than 0.05 for both likes and re-tweets. Hence we can confirm that there is a <b><font color = \"lime\">statistical difference </font></b>in the number of likes and retweets a tweet receives based on whether the tweet <b><font color = \"blue\">includes an  image/video</font></b> (or) <b><font color = \"blue\">not</font></b>"
      ]
    },
    {
      "cell_type": "markdown",
      "metadata": {
        "id": "Rufr12RL6Lrf"
      },
      "source": [
        "## <br><font color=\"orange\">ANOVA</font>"
      ]
    },
    {
      "cell_type": "markdown",
      "metadata": {
        "id": "TJGE5NkH6Lrf"
      },
      "source": [
        "### Time of day"
      ]
    },
    {
      "cell_type": "code",
      "metadata": {
        "id": "iY0SOlBN6Lrg"
      },
      "source": [
        "morn = df[df[\"Time of day\"] == \"MORNING\"]\n",
        "aftr = df[df[\"Time of day\"] == \"AFTERNOON\"]\n",
        "even = df[df[\"Time of day\"] == \"EVENING\"]\n",
        "night = df[df[\"Time of day\"] == \"NIGHT\"]"
      ],
      "execution_count": null,
      "outputs": []
    },
    {
      "cell_type": "code",
      "metadata": {
        "id": "JgX6njjG6Lrg",
        "outputId": "4c08a692-ea8e-478b-d515-d7ebb167bbbb"
      },
      "source": [
        "stats.f_oneway(morn['Likes'], aftr['Likes'], even['Likes'], night['Likes'])"
      ],
      "execution_count": null,
      "outputs": [
        {
          "output_type": "execute_result",
          "data": {
            "text/plain": [
              "F_onewayResult(statistic=0.24987507718981497, pvalue=0.861472053180381)"
            ]
          },
          "metadata": {
            "tags": []
          },
          "execution_count": 28
        }
      ]
    },
    {
      "cell_type": "code",
      "metadata": {
        "id": "NpTTXDlA6Lrh",
        "outputId": "69851a85-7d7e-4eb4-c4aa-fbb9ed8f4a05"
      },
      "source": [
        "stats.f_oneway(morn['Retweets'], aftr['Retweets'], even['Retweets'], night['Retweets'])"
      ],
      "execution_count": null,
      "outputs": [
        {
          "output_type": "execute_result",
          "data": {
            "text/plain": [
              "F_onewayResult(statistic=0.4739549654642143, pvalue=0.7004239146200343)"
            ]
          },
          "metadata": {
            "tags": []
          },
          "execution_count": 29
        }
      ]
    },
    {
      "cell_type": "markdown",
      "metadata": {
        "id": "CdTTMIx56Lrh"
      },
      "source": [
        "The p-value of the is greater than 0.05 for both likes and re-tweets. Hence we can confirm that there is <b><font color = \"red\">no statistical difference </font></b>in the number of likes and retweets a tweet receives based on the time of day it was tweeted, <b><font color = \"blue\">Morning, Afternoon, Evening</font></b> (or) <b><font color = \"blue\">weekday</font></b>"
      ]
    },
    {
      "cell_type": "markdown",
      "metadata": {
        "id": "BaXGyY1Q6Lri"
      },
      "source": [
        "### Topic"
      ]
    },
    {
      "cell_type": "code",
      "metadata": {
        "id": "4Owfubtt6Lri"
      },
      "source": [
        "topic_1 = df[df[\"Topic\"] == 'Hospital Promotion']\n",
        "topic_2 = df[df[\"Topic\"] == 'Health Education/Awareness']\n",
        "topic_3 = df[df[\"Topic\"] == 'Job Posting/Hiring']\n",
        "topic_4 = df[df[\"Topic\"] == 'General covid awareness']\n",
        "topic_5 = df[df[\"Topic\"] == 'Hospital specific covid education']\n",
        "topic_6 = df[df[\"Topic\"] == 'Covid Policy Changes/hospital changes']\n",
        "topic_7 = df[df[\"Topic\"] == 'Award/Achievement/Appreciation']\n",
        "topic_8 = df[df[\"Topic\"] == 'Covid specific event']\n",
        "topic_9 = df[df[\"Topic\"] == 'Miscellaneous']\n",
        "topic_10 = df[df[\"Topic\"] == 'Event']"
      ],
      "execution_count": null,
      "outputs": []
    },
    {
      "cell_type": "code",
      "metadata": {
        "id": "6H7hK38k6Lrj",
        "outputId": "13227f53-d4e6-4d8e-ef1e-826f6b2180b7"
      },
      "source": [
        "stats.f_oneway(topic_1['Likes'], topic_2['Likes'], topic_3['Likes'], topic_4['Likes'], topic_5['Likes'], \n",
        "               topic_6['Likes'], topic_7['Likes'], topic_8['Likes'], topic_9['Likes'], topic_10['Likes'])"
      ],
      "execution_count": null,
      "outputs": [
        {
          "output_type": "execute_result",
          "data": {
            "text/plain": [
              "F_onewayResult(statistic=7.472806839621658, pvalue=5.692677789523296e-11)"
            ]
          },
          "metadata": {
            "tags": []
          },
          "execution_count": 31
        }
      ]
    },
    {
      "cell_type": "code",
      "metadata": {
        "id": "QIb_njZI6Lrj",
        "outputId": "fe0039cd-ca8a-42b9-b7aa-247fcf958340"
      },
      "source": [
        "stats.f_oneway(topic_1['Retweets'], topic_2['Retweets'], topic_3['Retweets'], topic_4['Retweets'], topic_5['Retweets'], \n",
        "               topic_6['Retweets'], topic_7['Retweets'], topic_8['Retweets'], topic_9['Retweets'], topic_10['Retweets'])"
      ],
      "execution_count": null,
      "outputs": [
        {
          "output_type": "execute_result",
          "data": {
            "text/plain": [
              "F_onewayResult(statistic=4.29592534350941, pvalue=1.3554181144365027e-05)"
            ]
          },
          "metadata": {
            "tags": []
          },
          "execution_count": 32
        }
      ]
    },
    {
      "cell_type": "markdown",
      "metadata": {
        "id": "HXlI76Z_6Lrk"
      },
      "source": [
        "The p-value of the is lower than 0.05 for both likes and re-tweets. Hence we can confirm that there is a <b><font color = \"lime\">statistical difference </font></b>in the number of likes and retweets a tweet receives based on the <b><font color = \"blue\">tweet topic</font></b>"
      ]
    },
    {
      "cell_type": "code",
      "metadata": {
        "id": "EeSORdJe6Lrl"
      },
      "source": [
        "import xlsxwriter\n",
        "writer = pd.ExcelWriter('Hypothesis Testing.xlsx', engine='xlsxwriter')\n",
        "\n",
        "list_of_topics = [topic_1, topic_2, topic_3, topic_4, topic_5, topic_6, topic_7, topic_8, topic_9, topic_10]\n",
        "\n",
        "list_of_topics_dict = {0: \"Hospital Promotion\", 1: \"Health Education/Awareness\", 2:\"Job Posting/Hiring\",\n",
        "                       3:\"General covid awareness\", 4:\"Hospital specific covid education\",\n",
        "                       5:\"Covid Policy Changes/hospital change\", 6:\"Award/Achievement/Appreciation\", 7:\"Covid specific event\",\n",
        "                       8:\"Miscellaneous\", 9:\"Event\"}\n",
        "topic_1_list = []\n",
        "topic_2_list = []\n",
        "test_val = []\n",
        "for i in range(10):\n",
        "    for j in range(10):\n",
        "        test_val.append(round(stats.ttest_ind(list_of_topics[i]['Retweets'] , list_of_topics[j]['Retweets'])[1], 3))\n",
        "        topic_1_list.append(list_of_topics_dict[i])\n",
        "        topic_2_list.append(list_of_topics_dict[j])\n",
        "        \n",
        "df2 = pd.DataFrame({\"Topic 1\":topic_1_list, \"Topic 2\":topic_2_list, \"T-test: p-value\":test_val})\n",
        "df2.to_excel(writer, sheet_name=\"Topics - Retweets\", index=False)\n",
        "\n",
        "writer.save()"
      ],
      "execution_count": null,
      "outputs": []
    },
    {
      "cell_type": "markdown",
      "metadata": {
        "id": "wDpYl5Ub6Lrl"
      },
      "source": [
        "## <br><font color=\"orange\"> Pearson Correlation"
      ]
    },
    {
      "cell_type": "markdown",
      "metadata": {
        "id": "Jmdg2qWV6Lrl"
      },
      "source": [
        "### Days since account creation"
      ]
    },
    {
      "cell_type": "code",
      "metadata": {
        "id": "njBJBWLK6Lrm",
        "outputId": "3725c5d0-e2f6-4355-d34e-20965085674e"
      },
      "source": [
        "stats.pearsonr(df[\"Days since account creation\"], df[\"Likes\"])"
      ],
      "execution_count": null,
      "outputs": [
        {
          "output_type": "execute_result",
          "data": {
            "text/plain": [
              "(0.08250258967285552, 3.600817885774504e-18)"
            ]
          },
          "metadata": {
            "tags": []
          },
          "execution_count": 34
        }
      ]
    },
    {
      "cell_type": "code",
      "metadata": {
        "id": "Ccln13rF6Lrm",
        "outputId": "d3652bac-735a-4438-f567-a83e66bcd1af"
      },
      "source": [
        "stats.pearsonr(df[\"Days since account creation\"], df[\"Retweets\"])"
      ],
      "execution_count": null,
      "outputs": [
        {
          "output_type": "execute_result",
          "data": {
            "text/plain": [
              "(0.06844305853525985, 5.766945942059395e-13)"
            ]
          },
          "metadata": {
            "tags": []
          },
          "execution_count": 35
        }
      ]
    },
    {
      "cell_type": "markdown",
      "metadata": {
        "id": "Zs4KTiGK6Lrn"
      },
      "source": [
        "The p-value of the is lower than 0.05 for both likes and re-tweets. Hence we can confirm that there is a <b><font color = \"lime\">statistical difference </font></b>in the number of likes and retweets a tweet receives based on the <b><font color = \"blue\">number of days since twiiter account has been created</font></b>"
      ]
    },
    {
      "cell_type": "markdown",
      "metadata": {
        "id": "q3kziKvY6Lro"
      },
      "source": [
        "### Number of Followers"
      ]
    },
    {
      "cell_type": "code",
      "metadata": {
        "id": "ZX_nmiqM6Lro",
        "outputId": "4de89118-4d37-47b0-dbe7-c374f9ffc261"
      },
      "source": [
        "stats.pearsonr(df[\"Number of Followers\"], df[\"Likes\"])"
      ],
      "execution_count": null,
      "outputs": [
        {
          "output_type": "execute_result",
          "data": {
            "text/plain": [
              "(0.17307881041877538, 4.009769206593016e-75)"
            ]
          },
          "metadata": {
            "tags": []
          },
          "execution_count": 36
        }
      ]
    },
    {
      "cell_type": "code",
      "metadata": {
        "id": "oJtr3Ipb6Lrp",
        "outputId": "f3310f9e-7196-464e-ce91-eb34543e7c13"
      },
      "source": [
        "stats.pearsonr(df[\"Number of Followers\"], df[\"Retweets\"])"
      ],
      "execution_count": null,
      "outputs": [
        {
          "output_type": "execute_result",
          "data": {
            "text/plain": [
              "(0.14699847943670993, 1.781081978913164e-54)"
            ]
          },
          "metadata": {
            "tags": []
          },
          "execution_count": 37
        }
      ]
    },
    {
      "cell_type": "markdown",
      "metadata": {
        "id": "tgHqolpN6Lrp"
      },
      "source": [
        "The p-value of the is lower than 0.05 for both likes and re-tweets. Hence we can confirm that there is a <b><font color = \"lime\">statistical difference </font></b>in the number of likes and retweets a tweet receives based on whether the tweet <b><font color = \"blue\">number of followers</font></b> for the twitter account"
      ]
    },
    {
      "cell_type": "markdown",
      "metadata": {
        "id": "Gzk9tWki6Lrq"
      },
      "source": [
        "# <br><br><center>LINEAR REGRESSION</center>"
      ]
    },
    {
      "cell_type": "code",
      "metadata": {
        "id": "ovVgAvVH-Gi9"
      },
      "source": [
        "#%cd python_stepwiseSelection"
      ],
      "execution_count": null,
      "outputs": []
    },
    {
      "cell_type": "code",
      "metadata": {
        "id": "W2r6NEjY6Lrq"
      },
      "source": [
        "from sklearn import metrics\n",
        "import statsmodels.api as sm\n",
        "import stepwiseSelection as ss\n",
        "import sklearn.feature_selection\n",
        "from sklearn import preprocessing\n",
        "from sklearn.metrics import mean_squared_error\n",
        "from sklearn.linear_model import LinearRegression\n",
        "from sklearn.model_selection import train_test_split\n",
        "from statsmodels.stats.outliers_influence import variance_inflation_factor "
      ],
      "execution_count": null,
      "outputs": []
    },
    {
      "cell_type": "code",
      "metadata": {
        "id": "IkTjevLA6Lrr"
      },
      "source": [
        "lm = LinearRegression()"
      ],
      "execution_count": null,
      "outputs": []
    },
    {
      "cell_type": "markdown",
      "metadata": {
        "id": "vI7F9qH46Lrr"
      },
      "source": [
        "## Data Processing"
      ]
    },
    {
      "cell_type": "code",
      "metadata": {
        "colab": {
          "base_uri": "https://localhost:8080/",
          "height": 536
        },
        "id": "UzUT7Lga6Lrs",
        "outputId": "56d6a35f-6852-4dd0-9e8f-fc7dba677208"
      },
      "source": [
        "#Renaming Columns and Choosing only required Columns into a New Dataframe\n",
        "df = df.rename(columns={'Bucket':'Topic','Video':'Media'})\n",
        "regression_df = df[['Number of Followers', 'Days since account creation', 'Day', 'Time of day','Geographical Area','Media', 'Topic','Likes', 'Retweets']]\n",
        "\n",
        "#Replacing 1's & 0's of \"Media\" column with strings\n",
        "regression_df['Media'].loc[(regression_df['Media'] == 1)] = \"Contains Media\"\n",
        "regression_df['Media'].loc[(regression_df['Media'] == 0)] = \"No Media\"\n",
        "\n",
        "# Performing one hot coding of categorical column\n",
        "for col_name in [\"Day\",\"Time of day\",\"Geographical Area\",\"Media\",\"Topic\"]:\n",
        "    regression_df = pd.concat([pd.get_dummies(regression_df[col_name]), regression_df], axis=1)\n",
        "\n",
        "# Selecting the required columns in the required order\n",
        "regression_df = regression_df.drop([\"Day\",\"Time of day\",\"Geographical Area\",\"Media\",\"Topic\"], axis=1)\n",
        "regression_df = pd.concat([regression_df.iloc[:,[20,21]] , regression_df.iloc[:,[*range(20)]] , regression_df.iloc[:,[-2, -1]]], axis=1)\n",
        "\n",
        "regression_df.head()\n",
        "\n",
        "################################################################################################################################################################################\n",
        "# regression_df = pd.read_excel(\"Illinois Hospital Tweets.xlsx\", \"Illinois Hospital Tweets\")\n",
        "# regression_df = regression_df[['Number of Followers', 'Days since account creation', 'Day', 'Time of day',\n",
        "#                                'Geographical Area','Media', 'Topic','Likes', 'Retweets']]\n",
        "\n",
        "# regression_df['Media'].loc[(regression_df['Media'] == 1)] = \"Contains Image/Video\"\n",
        "# regression_df['Media'].loc[(regression_df['Media'] == 0)] = \"No Image/Video\"\n",
        "\n",
        "# for col_name in [\"Day\",\"Time of day\",\"Geographical Area\",\"Media\",\"Topic\"]:\n",
        "#     regression_df = pd.concat([pd.get_dummies(regression_df[col_name]), regression_df], axis=1)\n",
        "    \n",
        "# regression_df = regression_df.drop([\"Day\",\"Time of day\",\"Geographical Area\",\"Media\",\"Topic\"], axis=1)\n",
        "# regression_df = pd.concat([regression_df.iloc[:,[20,21]] , regression_df.iloc[:,[*range(20)]] , regression_df.iloc[:,[-2, -1]]], axis=1)\n",
        "# regression_df.head()"
      ],
      "execution_count": null,
      "outputs": [
        {
          "output_type": "stream",
          "text": [
            "/usr/local/lib/python3.6/dist-packages/pandas/core/indexing.py:670: SettingWithCopyWarning: \n",
            "A value is trying to be set on a copy of a slice from a DataFrame\n",
            "\n",
            "See the caveats in the documentation: https://pandas.pydata.org/pandas-docs/stable/user_guide/indexing.html#returning-a-view-versus-a-copy\n",
            "  iloc._setitem_with_indexer(indexer, value)\n",
            "/usr/local/lib/python3.6/dist-packages/ipykernel_launcher.py:6: SettingWithCopyWarning: \n",
            "A value is trying to be set on a copy of a slice from a DataFrame\n",
            "\n",
            "See the caveats in the documentation: https://pandas.pydata.org/pandas-docs/stable/user_guide/indexing.html#returning-a-view-versus-a-copy\n",
            "  \n",
            "/usr/local/lib/python3.6/dist-packages/ipykernel_launcher.py:7: SettingWithCopyWarning: \n",
            "A value is trying to be set on a copy of a slice from a DataFrame\n",
            "\n",
            "See the caveats in the documentation: https://pandas.pydata.org/pandas-docs/stable/user_guide/indexing.html#returning-a-view-versus-a-copy\n",
            "  import sys\n"
          ],
          "name": "stderr"
        },
        {
          "output_type": "execute_result",
          "data": {
            "text/html": [
              "<div>\n",
              "<style scoped>\n",
              "    .dataframe tbody tr th:only-of-type {\n",
              "        vertical-align: middle;\n",
              "    }\n",
              "\n",
              "    .dataframe tbody tr th {\n",
              "        vertical-align: top;\n",
              "    }\n",
              "\n",
              "    .dataframe thead th {\n",
              "        text-align: right;\n",
              "    }\n",
              "</style>\n",
              "<table border=\"1\" class=\"dataframe\">\n",
              "  <thead>\n",
              "    <tr style=\"text-align: right;\">\n",
              "      <th></th>\n",
              "      <th>Number of Followers</th>\n",
              "      <th>Days since account creation</th>\n",
              "      <th>Award/Achievement/Appreciation</th>\n",
              "      <th>Covid Policy Changes/hospital changes</th>\n",
              "      <th>Covid specific event</th>\n",
              "      <th>Event</th>\n",
              "      <th>General covid awareness</th>\n",
              "      <th>Health Education/Awareness</th>\n",
              "      <th>Hospital Promotion</th>\n",
              "      <th>Hospital specific covid education</th>\n",
              "      <th>Job Posting/Hiring</th>\n",
              "      <th>Miscellaneous</th>\n",
              "      <th>Contains Media</th>\n",
              "      <th>No Media</th>\n",
              "      <th>Rural</th>\n",
              "      <th>Urban</th>\n",
              "      <th>AFTERNOON</th>\n",
              "      <th>EVENING</th>\n",
              "      <th>MORNING</th>\n",
              "      <th>NIGHT</th>\n",
              "      <th>Weekday</th>\n",
              "      <th>Weekend</th>\n",
              "      <th>Likes</th>\n",
              "      <th>Retweets</th>\n",
              "    </tr>\n",
              "  </thead>\n",
              "  <tbody>\n",
              "    <tr>\n",
              "      <th>0</th>\n",
              "      <td>4021</td>\n",
              "      <td>4195</td>\n",
              "      <td>0</td>\n",
              "      <td>0</td>\n",
              "      <td>0</td>\n",
              "      <td>0</td>\n",
              "      <td>0</td>\n",
              "      <td>0</td>\n",
              "      <td>1</td>\n",
              "      <td>0</td>\n",
              "      <td>0</td>\n",
              "      <td>0</td>\n",
              "      <td>1</td>\n",
              "      <td>0</td>\n",
              "      <td>1</td>\n",
              "      <td>0</td>\n",
              "      <td>1</td>\n",
              "      <td>0</td>\n",
              "      <td>0</td>\n",
              "      <td>0</td>\n",
              "      <td>1</td>\n",
              "      <td>0</td>\n",
              "      <td>3</td>\n",
              "      <td>1</td>\n",
              "    </tr>\n",
              "    <tr>\n",
              "      <th>1</th>\n",
              "      <td>4021</td>\n",
              "      <td>4195</td>\n",
              "      <td>0</td>\n",
              "      <td>0</td>\n",
              "      <td>0</td>\n",
              "      <td>0</td>\n",
              "      <td>0</td>\n",
              "      <td>1</td>\n",
              "      <td>0</td>\n",
              "      <td>0</td>\n",
              "      <td>0</td>\n",
              "      <td>0</td>\n",
              "      <td>1</td>\n",
              "      <td>0</td>\n",
              "      <td>1</td>\n",
              "      <td>0</td>\n",
              "      <td>0</td>\n",
              "      <td>0</td>\n",
              "      <td>0</td>\n",
              "      <td>1</td>\n",
              "      <td>1</td>\n",
              "      <td>0</td>\n",
              "      <td>1</td>\n",
              "      <td>1</td>\n",
              "    </tr>\n",
              "    <tr>\n",
              "      <th>2</th>\n",
              "      <td>4021</td>\n",
              "      <td>4195</td>\n",
              "      <td>0</td>\n",
              "      <td>0</td>\n",
              "      <td>0</td>\n",
              "      <td>0</td>\n",
              "      <td>0</td>\n",
              "      <td>0</td>\n",
              "      <td>0</td>\n",
              "      <td>0</td>\n",
              "      <td>1</td>\n",
              "      <td>0</td>\n",
              "      <td>1</td>\n",
              "      <td>0</td>\n",
              "      <td>1</td>\n",
              "      <td>0</td>\n",
              "      <td>1</td>\n",
              "      <td>0</td>\n",
              "      <td>0</td>\n",
              "      <td>0</td>\n",
              "      <td>1</td>\n",
              "      <td>0</td>\n",
              "      <td>3</td>\n",
              "      <td>1</td>\n",
              "    </tr>\n",
              "    <tr>\n",
              "      <th>3</th>\n",
              "      <td>4021</td>\n",
              "      <td>4195</td>\n",
              "      <td>0</td>\n",
              "      <td>0</td>\n",
              "      <td>0</td>\n",
              "      <td>0</td>\n",
              "      <td>1</td>\n",
              "      <td>0</td>\n",
              "      <td>0</td>\n",
              "      <td>0</td>\n",
              "      <td>0</td>\n",
              "      <td>0</td>\n",
              "      <td>0</td>\n",
              "      <td>1</td>\n",
              "      <td>1</td>\n",
              "      <td>0</td>\n",
              "      <td>0</td>\n",
              "      <td>1</td>\n",
              "      <td>0</td>\n",
              "      <td>0</td>\n",
              "      <td>1</td>\n",
              "      <td>0</td>\n",
              "      <td>1</td>\n",
              "      <td>2</td>\n",
              "    </tr>\n",
              "    <tr>\n",
              "      <th>4</th>\n",
              "      <td>4021</td>\n",
              "      <td>4195</td>\n",
              "      <td>0</td>\n",
              "      <td>0</td>\n",
              "      <td>0</td>\n",
              "      <td>0</td>\n",
              "      <td>0</td>\n",
              "      <td>0</td>\n",
              "      <td>1</td>\n",
              "      <td>0</td>\n",
              "      <td>0</td>\n",
              "      <td>0</td>\n",
              "      <td>0</td>\n",
              "      <td>1</td>\n",
              "      <td>1</td>\n",
              "      <td>0</td>\n",
              "      <td>1</td>\n",
              "      <td>0</td>\n",
              "      <td>0</td>\n",
              "      <td>0</td>\n",
              "      <td>0</td>\n",
              "      <td>1</td>\n",
              "      <td>1</td>\n",
              "      <td>0</td>\n",
              "    </tr>\n",
              "  </tbody>\n",
              "</table>\n",
              "</div>"
            ],
            "text/plain": [
              "   Number of Followers  Days since account creation  ...  Likes  Retweets\n",
              "0                 4021                         4195  ...      3         1\n",
              "1                 4021                         4195  ...      1         1\n",
              "2                 4021                         4195  ...      3         1\n",
              "3                 4021                         4195  ...      1         2\n",
              "4                 4021                         4195  ...      1         0\n",
              "\n",
              "[5 rows x 24 columns]"
            ]
          },
          "metadata": {
            "tags": []
          },
          "execution_count": 10
        }
      ]
    },
    {
      "cell_type": "code",
      "metadata": {
        "colab": {
          "base_uri": "https://localhost:8080/"
        },
        "id": "4Zl3ddQx6Lrt",
        "outputId": "d5af07e3-a8aa-431a-a50b-c3133fb1d090"
      },
      "source": [
        "# Checking the range of values in \"Days since account creation\" & \"Number of Followers\" column\n",
        "print(f'Range of values in both the numerical columns\\n\\nDays since account creation:\\tMin = {regression_df[\"Days since account creation\"].min()}\\tMax = {regression_df[\"Days since account creation\"].max()}\\nNumber of Followers:\\t\\tMin = {regression_df[\"Number of Followers\"].min()}\\t\\tMax = {regression_df[\"Number of Followers\"].max()}')"
      ],
      "execution_count": null,
      "outputs": [
        {
          "output_type": "stream",
          "text": [
            "Range of values in both the numerical columns\n",
            "\n",
            "Days since account creation:\tMin = 443\tMax = 4418\n",
            "Number of Followers:\t\tMin = 3\t\tMax = 27700\n"
          ],
          "name": "stdout"
        }
      ]
    },
    {
      "cell_type": "markdown",
      "metadata": {
        "id": "GgVKN77L6Lru"
      },
      "source": [
        "Due to a high range of values in both the columns, normalizing the values under both of them"
      ]
    },
    {
      "cell_type": "code",
      "metadata": {
        "colab": {
          "base_uri": "https://localhost:8080/",
          "height": 270
        },
        "id": "CPeIH_UY6Lru",
        "outputId": "4d28fb90-598f-410d-8b6b-e4107f4441f7"
      },
      "source": [
        "# Selecting both numerical columns\n",
        "x = regression_df[[\"Days since account creation\" , \"Number of Followers\"]]\n",
        "\n",
        "# Normalizing both the columns\n",
        "min_max_scaler = preprocessing.MinMaxScaler()\n",
        "x_scaled = min_max_scaler.fit_transform(x)\n",
        "\n",
        "# Concatenating the normalized values with original dataframe\n",
        "regression_df[\"Days since account creation\"] = list(np.array(x_scaled).transpose()[0])\n",
        "regression_df[\"Number of Followers\"] = list(np.array(x_scaled).transpose()[1])\n",
        "\n",
        "regression_df = regression_df.reset_index(drop=True)\n",
        "\n",
        "# Final DataFrame\n",
        "regression_df.head()"
      ],
      "execution_count": null,
      "outputs": [
        {
          "output_type": "execute_result",
          "data": {
            "text/html": [
              "<div>\n",
              "<style scoped>\n",
              "    .dataframe tbody tr th:only-of-type {\n",
              "        vertical-align: middle;\n",
              "    }\n",
              "\n",
              "    .dataframe tbody tr th {\n",
              "        vertical-align: top;\n",
              "    }\n",
              "\n",
              "    .dataframe thead th {\n",
              "        text-align: right;\n",
              "    }\n",
              "</style>\n",
              "<table border=\"1\" class=\"dataframe\">\n",
              "  <thead>\n",
              "    <tr style=\"text-align: right;\">\n",
              "      <th></th>\n",
              "      <th>Number of Followers</th>\n",
              "      <th>Days since account creation</th>\n",
              "      <th>Award/Achievement/Appreciation</th>\n",
              "      <th>Covid Policy Changes/hospital changes</th>\n",
              "      <th>Covid specific event</th>\n",
              "      <th>Event</th>\n",
              "      <th>General covid awareness</th>\n",
              "      <th>Health Education/Awareness</th>\n",
              "      <th>Hospital Promotion</th>\n",
              "      <th>Hospital specific covid education</th>\n",
              "      <th>Job Posting/Hiring</th>\n",
              "      <th>Miscellaneous</th>\n",
              "      <th>Contains Media</th>\n",
              "      <th>No Media</th>\n",
              "      <th>Rural</th>\n",
              "      <th>Urban</th>\n",
              "      <th>AFTERNOON</th>\n",
              "      <th>EVENING</th>\n",
              "      <th>MORNING</th>\n",
              "      <th>NIGHT</th>\n",
              "      <th>Weekday</th>\n",
              "      <th>Weekend</th>\n",
              "      <th>Likes</th>\n",
              "      <th>Retweets</th>\n",
              "    </tr>\n",
              "  </thead>\n",
              "  <tbody>\n",
              "    <tr>\n",
              "      <th>0</th>\n",
              "      <td>0.14507</td>\n",
              "      <td>0.943899</td>\n",
              "      <td>0</td>\n",
              "      <td>0</td>\n",
              "      <td>0</td>\n",
              "      <td>0</td>\n",
              "      <td>0</td>\n",
              "      <td>0</td>\n",
              "      <td>1</td>\n",
              "      <td>0</td>\n",
              "      <td>0</td>\n",
              "      <td>0</td>\n",
              "      <td>1</td>\n",
              "      <td>0</td>\n",
              "      <td>1</td>\n",
              "      <td>0</td>\n",
              "      <td>1</td>\n",
              "      <td>0</td>\n",
              "      <td>0</td>\n",
              "      <td>0</td>\n",
              "      <td>1</td>\n",
              "      <td>0</td>\n",
              "      <td>3</td>\n",
              "      <td>1</td>\n",
              "    </tr>\n",
              "    <tr>\n",
              "      <th>1</th>\n",
              "      <td>0.14507</td>\n",
              "      <td>0.943899</td>\n",
              "      <td>0</td>\n",
              "      <td>0</td>\n",
              "      <td>0</td>\n",
              "      <td>0</td>\n",
              "      <td>0</td>\n",
              "      <td>1</td>\n",
              "      <td>0</td>\n",
              "      <td>0</td>\n",
              "      <td>0</td>\n",
              "      <td>0</td>\n",
              "      <td>1</td>\n",
              "      <td>0</td>\n",
              "      <td>1</td>\n",
              "      <td>0</td>\n",
              "      <td>0</td>\n",
              "      <td>0</td>\n",
              "      <td>0</td>\n",
              "      <td>1</td>\n",
              "      <td>1</td>\n",
              "      <td>0</td>\n",
              "      <td>1</td>\n",
              "      <td>1</td>\n",
              "    </tr>\n",
              "    <tr>\n",
              "      <th>2</th>\n",
              "      <td>0.14507</td>\n",
              "      <td>0.943899</td>\n",
              "      <td>0</td>\n",
              "      <td>0</td>\n",
              "      <td>0</td>\n",
              "      <td>0</td>\n",
              "      <td>0</td>\n",
              "      <td>0</td>\n",
              "      <td>0</td>\n",
              "      <td>0</td>\n",
              "      <td>1</td>\n",
              "      <td>0</td>\n",
              "      <td>1</td>\n",
              "      <td>0</td>\n",
              "      <td>1</td>\n",
              "      <td>0</td>\n",
              "      <td>1</td>\n",
              "      <td>0</td>\n",
              "      <td>0</td>\n",
              "      <td>0</td>\n",
              "      <td>1</td>\n",
              "      <td>0</td>\n",
              "      <td>3</td>\n",
              "      <td>1</td>\n",
              "    </tr>\n",
              "    <tr>\n",
              "      <th>3</th>\n",
              "      <td>0.14507</td>\n",
              "      <td>0.943899</td>\n",
              "      <td>0</td>\n",
              "      <td>0</td>\n",
              "      <td>0</td>\n",
              "      <td>0</td>\n",
              "      <td>1</td>\n",
              "      <td>0</td>\n",
              "      <td>0</td>\n",
              "      <td>0</td>\n",
              "      <td>0</td>\n",
              "      <td>0</td>\n",
              "      <td>0</td>\n",
              "      <td>1</td>\n",
              "      <td>1</td>\n",
              "      <td>0</td>\n",
              "      <td>0</td>\n",
              "      <td>1</td>\n",
              "      <td>0</td>\n",
              "      <td>0</td>\n",
              "      <td>1</td>\n",
              "      <td>0</td>\n",
              "      <td>1</td>\n",
              "      <td>2</td>\n",
              "    </tr>\n",
              "    <tr>\n",
              "      <th>4</th>\n",
              "      <td>0.14507</td>\n",
              "      <td>0.943899</td>\n",
              "      <td>0</td>\n",
              "      <td>0</td>\n",
              "      <td>0</td>\n",
              "      <td>0</td>\n",
              "      <td>0</td>\n",
              "      <td>0</td>\n",
              "      <td>1</td>\n",
              "      <td>0</td>\n",
              "      <td>0</td>\n",
              "      <td>0</td>\n",
              "      <td>0</td>\n",
              "      <td>1</td>\n",
              "      <td>1</td>\n",
              "      <td>0</td>\n",
              "      <td>1</td>\n",
              "      <td>0</td>\n",
              "      <td>0</td>\n",
              "      <td>0</td>\n",
              "      <td>0</td>\n",
              "      <td>1</td>\n",
              "      <td>1</td>\n",
              "      <td>0</td>\n",
              "    </tr>\n",
              "  </tbody>\n",
              "</table>\n",
              "</div>"
            ],
            "text/plain": [
              "   Number of Followers  Days since account creation  ...  Likes  Retweets\n",
              "0              0.14507                     0.943899  ...      3         1\n",
              "1              0.14507                     0.943899  ...      1         1\n",
              "2              0.14507                     0.943899  ...      3         1\n",
              "3              0.14507                     0.943899  ...      1         2\n",
              "4              0.14507                     0.943899  ...      1         0\n",
              "\n",
              "[5 rows x 24 columns]"
            ]
          },
          "metadata": {
            "tags": []
          },
          "execution_count": 14
        }
      ]
    },
    {
      "cell_type": "code",
      "metadata": {
        "colab": {
          "base_uri": "https://localhost:8080/",
          "height": 361
        },
        "id": "QZHO5hNMoqxY",
        "outputId": "0808bd9d-320b-403f-fafc-27becef2453b"
      },
      "source": [
        "regression_df.describe()"
      ],
      "execution_count": null,
      "outputs": [
        {
          "output_type": "execute_result",
          "data": {
            "text/html": [
              "<div>\n",
              "<style scoped>\n",
              "    .dataframe tbody tr th:only-of-type {\n",
              "        vertical-align: middle;\n",
              "    }\n",
              "\n",
              "    .dataframe tbody tr th {\n",
              "        vertical-align: top;\n",
              "    }\n",
              "\n",
              "    .dataframe thead th {\n",
              "        text-align: right;\n",
              "    }\n",
              "</style>\n",
              "<table border=\"1\" class=\"dataframe\">\n",
              "  <thead>\n",
              "    <tr style=\"text-align: right;\">\n",
              "      <th></th>\n",
              "      <th>Number of Followers</th>\n",
              "      <th>Days since account creation</th>\n",
              "      <th>Award/Achievement/Appreciation</th>\n",
              "      <th>Covid Policy Changes/hospital changes</th>\n",
              "      <th>Covid specific event</th>\n",
              "      <th>Event</th>\n",
              "      <th>General covid awareness</th>\n",
              "      <th>Health Education/Awareness</th>\n",
              "      <th>Hospital Promotion</th>\n",
              "      <th>Hospital specific covid education</th>\n",
              "      <th>Job Posting/Hiring</th>\n",
              "      <th>Miscellaneous</th>\n",
              "      <th>Contains Media</th>\n",
              "      <th>No Media</th>\n",
              "      <th>Rural</th>\n",
              "      <th>Urban</th>\n",
              "      <th>AFTERNOON</th>\n",
              "      <th>EVENING</th>\n",
              "      <th>MORNING</th>\n",
              "      <th>NIGHT</th>\n",
              "      <th>Weekday</th>\n",
              "      <th>Weekend</th>\n",
              "      <th>Likes</th>\n",
              "      <th>Retweets</th>\n",
              "    </tr>\n",
              "  </thead>\n",
              "  <tbody>\n",
              "    <tr>\n",
              "      <th>count</th>\n",
              "      <td>11061.000000</td>\n",
              "      <td>11061.000000</td>\n",
              "      <td>11061.000000</td>\n",
              "      <td>11061.000000</td>\n",
              "      <td>11061.000000</td>\n",
              "      <td>11061.000000</td>\n",
              "      <td>11061.000000</td>\n",
              "      <td>11061.000000</td>\n",
              "      <td>11061.000000</td>\n",
              "      <td>11061.000000</td>\n",
              "      <td>11061.000000</td>\n",
              "      <td>11061.000000</td>\n",
              "      <td>11061.000000</td>\n",
              "      <td>11061.000000</td>\n",
              "      <td>11061.000000</td>\n",
              "      <td>11061.000000</td>\n",
              "      <td>11061.000000</td>\n",
              "      <td>11061.000000</td>\n",
              "      <td>11061.000000</td>\n",
              "      <td>11061.000000</td>\n",
              "      <td>11061.000000</td>\n",
              "      <td>11061.000000</td>\n",
              "      <td>11061.000000</td>\n",
              "      <td>11061.000000</td>\n",
              "    </tr>\n",
              "    <tr>\n",
              "      <th>mean</th>\n",
              "      <td>10997.775789</td>\n",
              "      <td>3696.256035</td>\n",
              "      <td>0.045927</td>\n",
              "      <td>0.038242</td>\n",
              "      <td>0.041588</td>\n",
              "      <td>0.018353</td>\n",
              "      <td>0.022331</td>\n",
              "      <td>0.038875</td>\n",
              "      <td>0.665311</td>\n",
              "      <td>0.045204</td>\n",
              "      <td>0.041316</td>\n",
              "      <td>0.042853</td>\n",
              "      <td>0.498599</td>\n",
              "      <td>0.501401</td>\n",
              "      <td>0.737185</td>\n",
              "      <td>0.262815</td>\n",
              "      <td>0.461079</td>\n",
              "      <td>0.452581</td>\n",
              "      <td>0.010578</td>\n",
              "      <td>0.075762</td>\n",
              "      <td>0.853630</td>\n",
              "      <td>0.146370</td>\n",
              "      <td>4.290661</td>\n",
              "      <td>1.325287</td>\n",
              "    </tr>\n",
              "    <tr>\n",
              "      <th>std</th>\n",
              "      <td>10624.457272</td>\n",
              "      <td>807.057458</td>\n",
              "      <td>0.209337</td>\n",
              "      <td>0.191790</td>\n",
              "      <td>0.199654</td>\n",
              "      <td>0.134230</td>\n",
              "      <td>0.147763</td>\n",
              "      <td>0.193307</td>\n",
              "      <td>0.471903</td>\n",
              "      <td>0.207760</td>\n",
              "      <td>0.199030</td>\n",
              "      <td>0.202535</td>\n",
              "      <td>0.500021</td>\n",
              "      <td>0.500021</td>\n",
              "      <td>0.440183</td>\n",
              "      <td>0.440183</td>\n",
              "      <td>0.498505</td>\n",
              "      <td>0.497769</td>\n",
              "      <td>0.102307</td>\n",
              "      <td>0.264628</td>\n",
              "      <td>0.353493</td>\n",
              "      <td>0.353493</td>\n",
              "      <td>16.755676</td>\n",
              "      <td>5.200915</td>\n",
              "    </tr>\n",
              "    <tr>\n",
              "      <th>min</th>\n",
              "      <td>3.000000</td>\n",
              "      <td>443.000000</td>\n",
              "      <td>0.000000</td>\n",
              "      <td>0.000000</td>\n",
              "      <td>0.000000</td>\n",
              "      <td>0.000000</td>\n",
              "      <td>0.000000</td>\n",
              "      <td>0.000000</td>\n",
              "      <td>0.000000</td>\n",
              "      <td>0.000000</td>\n",
              "      <td>0.000000</td>\n",
              "      <td>0.000000</td>\n",
              "      <td>0.000000</td>\n",
              "      <td>0.000000</td>\n",
              "      <td>0.000000</td>\n",
              "      <td>0.000000</td>\n",
              "      <td>0.000000</td>\n",
              "      <td>0.000000</td>\n",
              "      <td>0.000000</td>\n",
              "      <td>0.000000</td>\n",
              "      <td>0.000000</td>\n",
              "      <td>0.000000</td>\n",
              "      <td>0.000000</td>\n",
              "      <td>0.000000</td>\n",
              "    </tr>\n",
              "    <tr>\n",
              "      <th>25%</th>\n",
              "      <td>1823.000000</td>\n",
              "      <td>3420.000000</td>\n",
              "      <td>0.000000</td>\n",
              "      <td>0.000000</td>\n",
              "      <td>0.000000</td>\n",
              "      <td>0.000000</td>\n",
              "      <td>0.000000</td>\n",
              "      <td>0.000000</td>\n",
              "      <td>0.000000</td>\n",
              "      <td>0.000000</td>\n",
              "      <td>0.000000</td>\n",
              "      <td>0.000000</td>\n",
              "      <td>0.000000</td>\n",
              "      <td>0.000000</td>\n",
              "      <td>0.000000</td>\n",
              "      <td>0.000000</td>\n",
              "      <td>0.000000</td>\n",
              "      <td>0.000000</td>\n",
              "      <td>0.000000</td>\n",
              "      <td>0.000000</td>\n",
              "      <td>1.000000</td>\n",
              "      <td>0.000000</td>\n",
              "      <td>0.000000</td>\n",
              "      <td>0.000000</td>\n",
              "    </tr>\n",
              "    <tr>\n",
              "      <th>50%</th>\n",
              "      <td>4021.000000</td>\n",
              "      <td>4168.000000</td>\n",
              "      <td>0.000000</td>\n",
              "      <td>0.000000</td>\n",
              "      <td>0.000000</td>\n",
              "      <td>0.000000</td>\n",
              "      <td>0.000000</td>\n",
              "      <td>0.000000</td>\n",
              "      <td>1.000000</td>\n",
              "      <td>0.000000</td>\n",
              "      <td>0.000000</td>\n",
              "      <td>0.000000</td>\n",
              "      <td>0.000000</td>\n",
              "      <td>1.000000</td>\n",
              "      <td>1.000000</td>\n",
              "      <td>0.000000</td>\n",
              "      <td>0.000000</td>\n",
              "      <td>0.000000</td>\n",
              "      <td>0.000000</td>\n",
              "      <td>0.000000</td>\n",
              "      <td>1.000000</td>\n",
              "      <td>0.000000</td>\n",
              "      <td>1.000000</td>\n",
              "      <td>0.000000</td>\n",
              "    </tr>\n",
              "    <tr>\n",
              "      <th>75%</th>\n",
              "      <td>21700.000000</td>\n",
              "      <td>4239.000000</td>\n",
              "      <td>0.000000</td>\n",
              "      <td>0.000000</td>\n",
              "      <td>0.000000</td>\n",
              "      <td>0.000000</td>\n",
              "      <td>0.000000</td>\n",
              "      <td>0.000000</td>\n",
              "      <td>1.000000</td>\n",
              "      <td>0.000000</td>\n",
              "      <td>0.000000</td>\n",
              "      <td>0.000000</td>\n",
              "      <td>1.000000</td>\n",
              "      <td>1.000000</td>\n",
              "      <td>1.000000</td>\n",
              "      <td>1.000000</td>\n",
              "      <td>1.000000</td>\n",
              "      <td>1.000000</td>\n",
              "      <td>0.000000</td>\n",
              "      <td>0.000000</td>\n",
              "      <td>1.000000</td>\n",
              "      <td>0.000000</td>\n",
              "      <td>4.000000</td>\n",
              "      <td>1.000000</td>\n",
              "    </tr>\n",
              "    <tr>\n",
              "      <th>max</th>\n",
              "      <td>27700.000000</td>\n",
              "      <td>4418.000000</td>\n",
              "      <td>1.000000</td>\n",
              "      <td>1.000000</td>\n",
              "      <td>1.000000</td>\n",
              "      <td>1.000000</td>\n",
              "      <td>1.000000</td>\n",
              "      <td>1.000000</td>\n",
              "      <td>1.000000</td>\n",
              "      <td>1.000000</td>\n",
              "      <td>1.000000</td>\n",
              "      <td>1.000000</td>\n",
              "      <td>1.000000</td>\n",
              "      <td>1.000000</td>\n",
              "      <td>1.000000</td>\n",
              "      <td>1.000000</td>\n",
              "      <td>1.000000</td>\n",
              "      <td>1.000000</td>\n",
              "      <td>1.000000</td>\n",
              "      <td>1.000000</td>\n",
              "      <td>1.000000</td>\n",
              "      <td>1.000000</td>\n",
              "      <td>857.000000</td>\n",
              "      <td>341.000000</td>\n",
              "    </tr>\n",
              "  </tbody>\n",
              "</table>\n",
              "</div>"
            ],
            "text/plain": [
              "       Number of Followers  ...      Retweets\n",
              "count         11061.000000  ...  11061.000000\n",
              "mean          10997.775789  ...      1.325287\n",
              "std           10624.457272  ...      5.200915\n",
              "min               3.000000  ...      0.000000\n",
              "25%            1823.000000  ...      0.000000\n",
              "50%            4021.000000  ...      0.000000\n",
              "75%           21700.000000  ...      1.000000\n",
              "max           27700.000000  ...    341.000000\n",
              "\n",
              "[8 rows x 24 columns]"
            ]
          },
          "metadata": {
            "tags": []
          },
          "execution_count": 11
        }
      ]
    },
    {
      "cell_type": "markdown",
      "metadata": {
        "id": "dcl2hP1-6Lrv"
      },
      "source": [
        "## Feature Selection - Stepwise regression"
      ]
    },
    {
      "cell_type": "code",
      "metadata": {
        "colab": {
          "base_uri": "https://localhost:8080/"
        },
        "id": "5xNmrI9H6Lrv",
        "outputId": "477e1c76-8e0f-41b0-e849-9f804685d805"
      },
      "source": [
        "# Stepwise regression for likes\n",
        "X = regression_df.drop([\"Likes\", \"Retweets\"], axis=1)\n",
        "y = regression_df.Likes\n",
        "final_vars, iterations_logs = ss.backwardSelection(X,y, model_type=\"linear\")"
      ],
      "execution_count": null,
      "outputs": [
        {
          "output_type": "stream",
          "text": [
            "Character Variables (Dummies Generated, First Dummies Dropped): []\n",
            "Eliminated : Job Posting/Hiring\n",
            "Eliminated : Contains Media\n",
            "Eliminated : Rural\n",
            "Regained :  Rural\n",
            "                            OLS Regression Results                            \n",
            "==============================================================================\n",
            "Dep. Variable:                  Likes   R-squared:                       0.061\n",
            "Model:                            OLS   Adj. R-squared:                  0.059\n",
            "Method:                 Least Squares   F-statistic:                     42.01\n",
            "Date:                Thu, 10 Dec 2020   Prob (F-statistic):          3.47e-136\n",
            "Time:                        19:05:48   Log-Likelihood:                -46526.\n",
            "No. Observations:               11061   AIC:                         9.309e+04\n",
            "Df Residuals:                   11043   BIC:                         9.322e+04\n",
            "Df Model:                          17                                         \n",
            "Covariance Type:            nonrobust                                         \n",
            "=========================================================================================================\n",
            "                                            coef    std err          t      P>|t|      [0.025      0.975]\n",
            "---------------------------------------------------------------------------------------------------------\n",
            "intercept                             -3.302e+11   1.18e+13     -0.028      0.978   -2.34e+13    2.27e+13\n",
            "Number of Followers                       8.1261      0.501     16.223      0.000       7.144       9.108\n",
            "Days since account creation              -1.0579      0.894     -1.184      0.236      -2.809       0.694\n",
            "Award/Achievement/Appreciation            1.3017      1.048      1.242      0.214      -0.753       3.356\n",
            "Covid Policy Changes/hospital changes     2.1218      1.097      1.933      0.053      -0.029       4.273\n",
            "Covid specific event                      3.8920      1.075      3.621      0.000       1.785       5.999\n",
            "Event                                     4.9303      1.372      3.593      0.000       2.240       7.620\n",
            "General covid awareness                   1.8494      1.285      1.439      0.150      -0.669       4.368\n",
            "Health Education/Awareness                5.6298      1.093      5.151      0.000       3.487       7.772\n",
            "Hospital Promotion                        1.4351      0.790      1.816      0.069      -0.114       2.984\n",
            "Hospital specific covid education         0.1802      1.053      0.171      0.864      -1.884       2.244\n",
            "Miscellaneous                             0.9639      1.068      0.903      0.367      -1.129       3.057\n",
            "No Media                                 -3.7393      0.325    -11.491      0.000      -4.377      -3.101\n",
            "Rural                                  8.535e+10   3.04e+12      0.028      0.978   -5.87e+12    6.04e+12\n",
            "Urban                                  8.535e+10   3.04e+12      0.028      0.978   -5.87e+12    6.04e+12\n",
            "AFTERNOON                             -1.223e+11   4.36e+12     -0.028      0.978   -8.66e+12    8.41e+12\n",
            "EVENING                               -1.223e+11   4.36e+12     -0.028      0.978   -8.66e+12    8.41e+12\n",
            "MORNING                               -1.223e+11   4.36e+12     -0.028      0.978   -8.66e+12    8.41e+12\n",
            "NIGHT                                 -1.223e+11   4.36e+12     -0.028      0.978   -8.66e+12    8.41e+12\n",
            "Weekday                                3.672e+11   1.31e+13      0.028      0.978   -2.53e+13     2.6e+13\n",
            "Weekend                                3.672e+11   1.31e+13      0.028      0.978   -2.53e+13     2.6e+13\n",
            "==============================================================================\n",
            "Omnibus:                    28240.208   Durbin-Watson:                   1.921\n",
            "Prob(Omnibus):                  0.000   Jarque-Bera (JB):        742464625.847\n",
            "Skew:                          28.569   Prob(JB):                         0.00\n",
            "Kurtosis:                    1270.961   Cond. No.                     6.28e+15\n",
            "==============================================================================\n",
            "\n",
            "Warnings:\n",
            "[1] Standard Errors assume that the covariance matrix of the errors is correctly specified.\n",
            "[2] The smallest eigenvalue is 1.24e-27. This might indicate that there are\n",
            "strong multicollinearity problems or that the design matrix is singular.\n",
            "AIC: 93087.73364266519\n",
            "BIC: 93219.33489502943\n",
            "Final Variables: ['intercept', 'Number of Followers', 'Days since account creation', 'Award/Achievement/Appreciation', 'Covid Policy Changes/hospital changes', 'Covid specific event', 'Event', 'General covid awareness', 'Health Education/Awareness', 'Hospital Promotion', 'Hospital specific covid education', 'Miscellaneous', 'No Media', 'Rural', 'Urban', 'AFTERNOON', 'EVENING', 'MORNING', 'NIGHT', 'Weekday', 'Weekend']\n"
          ],
          "name": "stdout"
        }
      ]
    },
    {
      "cell_type": "code",
      "metadata": {
        "colab": {
          "base_uri": "https://localhost:8080/"
        },
        "id": "KYDGJQlP6Lrw",
        "outputId": "96e9d59d-a5d4-4497-b2d4-a5393238b34e"
      },
      "source": [
        "# Stepwise regression for Retweets\n",
        "X = regression_df.drop([\"Likes\", \"Retweets\"], axis=1)\n",
        "y = regression_df.Retweets\n",
        "final_vars, iterations_logs = ss.backwardSelection(X,y, model_type=\"linear\")"
      ],
      "execution_count": null,
      "outputs": [
        {
          "output_type": "stream",
          "text": [
            "Character Variables (Dummies Generated, First Dummies Dropped): []\n",
            "Eliminated : Job Posting/Hiring\n",
            "Eliminated : Rural\n",
            "Eliminated : Contains Media\n",
            "Eliminated : NIGHT\n",
            "Regained :  NIGHT\n",
            "                            OLS Regression Results                            \n",
            "==============================================================================\n",
            "Dep. Variable:               Retweets   R-squared:                       0.046\n",
            "Model:                            OLS   Adj. R-squared:                  0.045\n",
            "Method:                 Least Squares   F-statistic:                     31.51\n",
            "Date:                Thu, 10 Dec 2020   Prob (F-statistic):          2.19e-100\n",
            "Time:                        19:05:53   Log-Likelihood:                -33670.\n",
            "No. Observations:               11061   AIC:                         6.738e+04\n",
            "Df Residuals:                   11043   BIC:                         6.751e+04\n",
            "Df Model:                          17                                         \n",
            "Covariance Type:            nonrobust                                         \n",
            "=========================================================================================================\n",
            "                                            coef    std err          t      P>|t|      [0.025      0.975]\n",
            "---------------------------------------------------------------------------------------------------------\n",
            "intercept                              2.682e+10   5.02e+12      0.005      0.996   -9.81e+12    9.86e+12\n",
            "Number of Followers                       2.0295      0.157     12.954      0.000       1.722       2.337\n",
            "Days since account creation              -0.2075      0.279     -0.743      0.458      -0.755       0.340\n",
            "Award/Achievement/Appreciation            0.4508      0.328      1.375      0.169      -0.192       1.093\n",
            "Covid Policy Changes/hospital changes     0.4668      0.343      1.360      0.174      -0.206       1.140\n",
            "Covid specific event                      1.4072      0.336      4.186      0.000       0.748       2.066\n",
            "Event                                     1.2678      0.429      2.954      0.003       0.426       2.109\n",
            "General covid awareness                   0.7997      0.402      1.990      0.047       0.012       1.587\n",
            "Health Education/Awareness                1.0682      0.342      3.124      0.002       0.398       1.738\n",
            "Hospital Promotion                        0.5352      0.247      2.166      0.030       0.051       1.020\n",
            "Hospital specific covid education         0.3834      0.329      1.164      0.244      -0.262       1.029\n",
            "Miscellaneous                             0.4359      0.334      1.305      0.192      -0.219       1.090\n",
            "No Media                                 -0.9055      0.102     -8.898      0.000      -1.105      -0.706\n",
            "Urban                                     1.3601      0.114     11.890      0.000       1.136       1.584\n",
            "AFTERNOON                              1.435e+10   2.68e+12      0.005      0.996   -5.25e+12    5.28e+12\n",
            "EVENING                                1.435e+10   2.68e+12      0.005      0.996   -5.25e+12    5.28e+12\n",
            "MORNING                                1.435e+10   2.68e+12      0.005      0.996   -5.25e+12    5.28e+12\n",
            "NIGHT                                  1.435e+10   2.68e+12      0.005      0.996   -5.25e+12    5.28e+12\n",
            "Weekday                               -4.116e+10    7.7e+12     -0.005      0.996   -1.51e+13    1.51e+13\n",
            "Weekend                               -4.116e+10    7.7e+12     -0.005      0.996   -1.51e+13    1.51e+13\n",
            "==============================================================================\n",
            "Omnibus:                    30800.780   Durbin-Watson:                   1.944\n",
            "Prob(Omnibus):                  0.000   Jarque-Bera (JB):       1890235456.724\n",
            "Skew:                          35.598   Prob(JB):                         0.00\n",
            "Kurtosis:                    2026.941   Cond. No.                     7.30e+15\n",
            "==============================================================================\n",
            "\n",
            "Warnings:\n",
            "[1] Standard Errors assume that the covariance matrix of the errors is correctly specified.\n",
            "[2] The smallest eigenvalue is 8.03e-28. This might indicate that there are\n",
            "strong multicollinearity problems or that the design matrix is singular.\n",
            "AIC: 67376.3588711242\n",
            "BIC: 67507.96012348845\n",
            "Final Variables: ['intercept', 'Number of Followers', 'Days since account creation', 'Award/Achievement/Appreciation', 'Covid Policy Changes/hospital changes', 'Covid specific event', 'Event', 'General covid awareness', 'Health Education/Awareness', 'Hospital Promotion', 'Hospital specific covid education', 'Miscellaneous', 'No Media', 'Urban', 'AFTERNOON', 'EVENING', 'MORNING', 'NIGHT', 'Weekday', 'Weekend']\n"
          ],
          "name": "stdout"
        }
      ]
    },
    {
      "cell_type": "markdown",
      "metadata": {
        "id": "9_P2QJ526Lrx"
      },
      "source": [
        "## <br><br><br><br>Feature Selection - VIF (Variance Inflation Factor)\n",
        "<font size=4>Using <b>VIF</b> the significant variables are slected as below:</font><br>                  \n",
        " [1] Number of Followers                  \n",
        " [2] Days since account creation          \n",
        " [3] Covid Policy Changes/hospital changes                  \n",
        " [4] Covid specific event                 \n",
        " [5] Event                                \n",
        " [6] General covid awareness              \n",
        " [7] Health Education/Awareness           \n",
        " [8] Hospital specific covid education    \n",
        " [9] Job Posting Hiring                   \n",
        "[10] Miscellaneous                        \n",
        "[11] No Image/Video                       \n",
        "[12] Urban                                \n",
        "[13] EVENING                              \n",
        "[14] MORNING                              \n",
        "[15] NIGHT                                \n",
        "[16] Weekend<br><br>"
      ]
    },
    {
      "cell_type": "markdown",
      "metadata": {
        "id": "IK6MkMPe6Lrx"
      },
      "source": [
        "## <br>Feature Selection - Correlation matrix"
      ]
    },
    {
      "cell_type": "code",
      "metadata": {
        "colab": {
          "base_uri": "https://localhost:8080/",
          "height": 645
        },
        "id": "BB6Niag-6Lry",
        "outputId": "d6ed70d0-35c6-44e0-c1f2-faea9592b4c4"
      },
      "source": [
        "#Correlation Matrix\n",
        "corr_df = regression_df.iloc[:, :-2].corr(method = 'pearson')\n",
        "mask = np.zeros_like(corr_df)\n",
        "mask[np.triu_indices_from(mask)] = True\n",
        "\n",
        "plt.figure(figsize=(9,6))\n",
        "sns.heatmap(corr_df, cmap = 'RdYlGn_r', vmax = 1.0, vmin = -1.0, \n",
        "                mask = mask, linewidths = 0.5)\n",
        "plt.title(\"Correlation Matrix\", fontsize=30)\n",
        "plt.xticks(rotation=90, fontsize=12)\n",
        "plt.yticks(fontsize=12)\n",
        "plt.show"
      ],
      "execution_count": null,
      "outputs": [
        {
          "output_type": "execute_result",
          "data": {
            "text/plain": [
              "<function matplotlib.pyplot.show>"
            ]
          },
          "metadata": {
            "tags": []
          },
          "execution_count": 17
        },
        {
          "output_type": "display_data",
          "data": {
            "image/png": "[encoded data removed]",
            "text/plain": [
              "<Figure size 648x432 with 2 Axes>"
            ]
          },
          "metadata": {
            "tags": [],
            "needs_background": "light"
          }
        }
      ]
    },
    {
      "cell_type": "markdown",
      "metadata": {
        "id": "7THhCN096Lry"
      },
      "source": [
        "<font size=4><br><br>Based on the above analysis we can choose the following variables to predict\n",
        "<br><br><b><font color=\"blue\">Likes</font></b>:<br></font>\n",
        " [1] Number of Followers                  \n",
        " [2] Days since account creation          \n",
        " [3] Covid Policy Changes/hospital changes                  \n",
        " [4] Covid specific event                 \n",
        " [5] Event                                \n",
        " [6] General covid awareness              \n",
        " [7] Health Education/Awareness           \n",
        " [8] Hospital specific covid education           \n",
        " [9] Miscellaneous                        \n",
        "[10] Contains Image/Video                       \n",
        "[11] Urban                                \n",
        "[12] EVENING                              \n",
        "[13] MORNING                              \n",
        "[14] NIGHT                                \n",
        "[15] Weekend\n",
        "<br><br><b><font size=4><font color=\"blue\">Retweets</font>:<br></font></b>\n",
        "[1] Number of Followers<br>\n",
        "[2] Covid Policy Changes/hospital changes<br>\n",
        "[3] Hospital specific covid education<br>\n",
        "[4] Job Posting Hiring<br>\n",
        "[5] Miscellaneous<br>\n",
        "[6] No Image/Video<br>\n",
        "[7] Urban<br><br>"
      ]
    },
    {
      "cell_type": "markdown",
      "metadata": {
        "id": "rB5hWC946Lrz"
      },
      "source": [
        "### Likes"
      ]
    },
    {
      "cell_type": "code",
      "metadata": {
        "id": "JaIRNjqy6Lrz"
      },
      "source": [
        "X_train, X_test, y_train, y_test = train_test_split(regression_df.iloc[:,:-2], regression_df[[\"Likes\"]], test_size=0.1, random_state=101)"
      ],
      "execution_count": null,
      "outputs": []
    },
    {
      "cell_type": "code",
      "metadata": {
        "colab": {
          "base_uri": "https://localhost:8080/"
        },
        "id": "n7b90FCY6Lr0",
        "outputId": "000a4761-0dec-4cee-a8a5-dd61699b6312"
      },
      "source": [
        "cols = [\"Number of Followers\", \"Days since account creation\", \"Covid Policy Changes/hospital changes\", \"Covid specific event\",\n",
        "        \"Event\", \"General covid awareness\", \"Health Education/Awareness\", \"Hospital specific covid education\", \"Miscellaneous\",\n",
        "        \"Contains Media\", \"Urban\", \"EVENING\", \"MORNING\", \"NIGHT\", \"Weekend\"]\n",
        "\n",
        "linear_model=sm.OLS(y_train[\"Likes\"], X_train[cols])\n",
        "result=linear_model.fit()\n",
        "print(result.summary2())"
      ],
      "execution_count": null,
      "outputs": [
        {
          "output_type": "stream",
          "text": [
            "                           Results: Ordinary least squares\n",
            "=====================================================================================\n",
            "Model:                     OLS               Adj. R-squared (uncentered):  0.114     \n",
            "Dependent Variable:        Likes             AIC:                          84659.1195\n",
            "Date:                      2020-12-10 19:07  BIC:                          84767.2055\n",
            "No. Observations:          9954              Log-Likelihood:               -42315.   \n",
            "Df Model:                  15                F-statistic:                  85.99     \n",
            "Df Residuals:              9939              Prob (F-statistic):           2.04e-249 \n",
            "R-squared (uncentered):    0.115             Scale:                        288.78    \n",
            "-------------------------------------------------------------------------------------\n",
            "                                       Coef.  Std.Err.    t    P>|t|   [0.025  0.975]\n",
            "-------------------------------------------------------------------------------------\n",
            "Number of Followers                    8.7649   0.5347 16.3932 0.0000  7.7168  9.8130\n",
            "Days since account creation           -2.7135   0.4924 -5.5104 0.0000 -3.6787 -1.7482\n",
            "Covid Policy Changes/hospital changes  0.9879   0.8982  1.1000 0.2714 -0.7726  2.7485\n",
            "Covid specific event                   2.8129   0.8623  3.2621 0.0011  1.1226  4.5032\n",
            "Event                                  3.3596   1.2688  2.6478 0.0081  0.8725  5.8468\n",
            "General covid awareness                0.4133   1.1410  0.3623 0.7171 -1.8232  2.6498\n",
            "Health Education/Awareness             4.5679   0.8806  5.1872 0.0000  2.8417  6.2941\n",
            "Hospital specific covid education     -1.3975   0.8294 -1.6849 0.0920 -3.0233  0.2283\n",
            "Miscellaneous                         -0.4927   0.8402 -0.5865 0.5576 -2.1396  1.1541\n",
            "Contains Media                         3.7470   0.3517 10.6536 0.0000  3.0576  4.4364\n",
            "Urban                                  4.1233   0.3985 10.3474 0.0000  3.3422  4.9044\n",
            "EVENING                               -0.2947   0.3502 -0.8415 0.4001 -0.9812  0.3918\n",
            "MORNING                                0.5213   1.6607  0.3139 0.7536 -2.7341  3.7766\n",
            "NIGHT                                 -0.2774   0.6782 -0.4091 0.6825 -1.6069  1.0520\n",
            "Weekend                                0.5464   0.4879  1.1200 0.2627 -0.4099  1.5027\n",
            "-------------------------------------------------------------------------------------\n",
            "Omnibus:                  25096.409          Durbin-Watson:             2.006        \n",
            "Prob(Omnibus):            0.000              Jarque-Bera (JB):          574114430.425\n",
            "Skew:                     27.679             Prob(JB):                  0.000        \n",
            "Kurtosis:                 1178.235           Condition No.:             12           \n",
            "=====================================================================================\n",
            "\n"
          ],
          "name": "stdout"
        }
      ]
    },
    {
      "cell_type": "code",
      "metadata": {
        "colab": {
          "base_uri": "https://localhost:8080/"
        },
        "id": "cXYY8Gnr6Lr0",
        "outputId": "cd14cf86-2c3c-4d5e-a35f-5a344ab1e27d"
      },
      "source": [
        "# Fitting training data to Linear regression model\n",
        "lm.fit(X_train[cols], y_train)\n",
        "\n",
        "# Prediction of target variable\n",
        "y_hat = lm.predict(X_test[cols])\n",
        "\n",
        "# Mean Squared Error\n",
        "print(f'MSE = {round(mean_squared_error(y_test, y_hat),4)}')"
      ],
      "execution_count": null,
      "outputs": [
        {
          "output_type": "stream",
          "text": [
            "MSE = 43.9518\n"
          ],
          "name": "stdout"
        }
      ]
    },
    {
      "cell_type": "code",
      "metadata": {
        "colab": {
          "base_uri": "https://localhost:8080/",
          "height": 718
        },
        "id": "P-IrQEpX6Lr1",
        "outputId": "0035377f-c619-4568-db63-b873a59d216e"
      },
      "source": [
        "likes_importance = lm.coef_.tolist()[0]\n",
        "coef = pd.DataFrame(likes_importance, cols, columns=[\"Feature Importance\"]).sort_values(by=['Feature Importance'], ascending=False)\n",
        "\n",
        "coef.plot(kind='bar', figsize=(9,6), color=(0.4, 0.6, 0.2, 0.6))\n",
        "plt.title(\"Modal Coefficients-Feature Importance Plot\", fontsize=25)\n",
        "plt.xticks(fontsize=15)\n",
        "plt.yticks(fontsize=15)"
      ],
      "execution_count": null,
      "outputs": [
        {
          "output_type": "execute_result",
          "data": {
            "text/plain": [
              "(array([-2.,  0.,  2.,  4.,  6.,  8., 10.]),\n",
              " <a list of 7 Text major ticklabel objects>)"
            ]
          },
          "metadata": {
            "tags": []
          },
          "execution_count": 22
        },
        {
          "output_type": "display_data",
          "data": {
            "image/png": "[encoded data removed]",
            "text/plain": [
              "<Figure size 648x432 with 1 Axes>"
            ]
          },
          "metadata": {
            "tags": [],
            "needs_background": "light"
          }
        }
      ]
    },
    {
      "cell_type": "markdown",
      "metadata": {
        "id": "Hi9tJCt26Lr1"
      },
      "source": [
        "### Retweets"
      ]
    },
    {
      "cell_type": "code",
      "metadata": {
        "colab": {
          "base_uri": "https://localhost:8080/"
        },
        "id": "x3NncHGf6Lr2",
        "outputId": "25f59111-cf56-4cb1-9d6b-86c792267de4"
      },
      "source": [
        "regression_df.columns"
      ],
      "execution_count": null,
      "outputs": [
        {
          "output_type": "execute_result",
          "data": {
            "text/plain": [
              "Index(['Number of Followers', 'Days since account creation',\n",
              "       'Award/Achievement/Appreciation',\n",
              "       'Covid Policy Changes/hospital changes', 'Covid specific event',\n",
              "       'Event', 'General covid awareness', 'Health Education/Awareness',\n",
              "       'Hospital Promotion', 'Hospital specific covid education',\n",
              "       'Job Posting/Hiring', 'Miscellaneous', 'Contains Media', 'No Media',\n",
              "       'Rural', 'Urban', 'AFTERNOON', 'EVENING', 'MORNING', 'NIGHT', 'Weekday',\n",
              "       'Weekend', 'Likes', 'Retweets'],\n",
              "      dtype='object')"
            ]
          },
          "metadata": {
            "tags": []
          },
          "execution_count": 23
        }
      ]
    },
    {
      "cell_type": "code",
      "metadata": {
        "id": "N6Lzxvc06Lr2"
      },
      "source": [
        "X_train, X_test, y_train, y_test = train_test_split(regression_df.iloc[:,:-2], regression_df[[\"Retweets\"]], test_size=0.1, random_state=101)"
      ],
      "execution_count": null,
      "outputs": []
    },
    {
      "cell_type": "code",
      "metadata": {
        "colab": {
          "base_uri": "https://localhost:8080/"
        },
        "id": "pOondnXI6Lr3",
        "outputId": "b484b08c-07f4-4d76-9275-4f0b2459cea6"
      },
      "source": [
        "cols = [\"Number of Followers\", \"Covid Policy Changes/hospital changes\", \"Hospital specific covid education\",\n",
        "        \"Job Posting/Hiring\", \"Miscellaneous\", \"No Media\", \"Urban\"]\n",
        "\n",
        "linear_model=sm.OLS(y_train[\"Retweets\"], X_train[cols])\n",
        "result=linear_model.fit()\n",
        "print(result.summary2())"
      ],
      "execution_count": null,
      "outputs": [
        {
          "output_type": "stream",
          "text": [
            "                           Results: Ordinary least squares\n",
            "=====================================================================================\n",
            "Model:                     OLS               Adj. R-squared (uncentered):  0.093     \n",
            "Dependent Variable:        Retweets          AIC:                          61490.6085\n",
            "Date:                      2020-12-10 19:07  BIC:                          61541.0486\n",
            "No. Observations:          9954              Log-Likelihood:               -30738.   \n",
            "Df Model:                  7                 F-statistic:                  147.4     \n",
            "Df Residuals:              9947              Prob (F-statistic):           9.14e-208 \n",
            "R-squared (uncentered):    0.094             Scale:                        28.188    \n",
            "-------------------------------------------------------------------------------------\n",
            "                                       Coef.  Std.Err.    t    P>|t|   [0.025  0.975]\n",
            "-------------------------------------------------------------------------------------\n",
            "Number of Followers                    2.4930   0.1335 18.6742 0.0000  2.2313  2.7547\n",
            "Covid Policy Changes/hospital changes  0.2151   0.2759  0.7795 0.4357 -0.3258  0.7559\n",
            "Hospital specific covid education      0.0250   0.2545  0.0984 0.9216 -0.4738  0.5239\n",
            "Job Posting/Hiring                    -0.2526   0.2649 -0.9534 0.3404 -0.7719  0.2667\n",
            "Miscellaneous                          0.0696   0.2592  0.2687 0.7882 -0.4385  0.5778\n",
            "No Media                              -0.5795   0.0967 -5.9946 0.0000 -0.7690 -0.3900\n",
            "Urban                                  1.6398   0.1196 13.7158 0.0000  1.4054  1.8741\n",
            "-------------------------------------------------------------------------------------\n",
            "Omnibus:                 27489.081          Durbin-Watson:             2.006         \n",
            "Prob(Omnibus):           0.000              Jarque-Bera (JB):          1511036274.183\n",
            "Skew:                    34.817             Prob(JB):                  0.000         \n",
            "Kurtosis:                1910.458           Condition No.:             4             \n",
            "=====================================================================================\n",
            "\n"
          ],
          "name": "stdout"
        }
      ]
    },
    {
      "cell_type": "code",
      "metadata": {
        "colab": {
          "base_uri": "https://localhost:8080/"
        },
        "id": "Tjcg0dBw6Lr4",
        "outputId": "7803982e-34aa-4523-bef6-d544a5b164fd"
      },
      "source": [
        "# Fitting training data to Linear regression model\n",
        "lm.fit(X_train[cols], y_train)\n",
        "\n",
        "# Prediction of target variable\n",
        "y_hat = lm.predict(X_test[cols])\n",
        "\n",
        "# Mean Squared Error\n",
        "print(f'MSE = {round(mean_squared_error(y_test, y_hat),4)}')"
      ],
      "execution_count": null,
      "outputs": [
        {
          "output_type": "stream",
          "text": [
            "MSE = 6.3993\n"
          ],
          "name": "stdout"
        }
      ]
    },
    {
      "cell_type": "code",
      "metadata": {
        "colab": {
          "base_uri": "https://localhost:8080/",
          "height": 718
        },
        "id": "KdJVoVIA6Lr4",
        "outputId": "effbb969-5f87-49be-92b6-bdd653a812f1"
      },
      "source": [
        "likes_importance = lm.coef_.tolist()[0]\n",
        "coef = pd.DataFrame(likes_importance, cols, columns=[\"Feature Importance\"]).sort_values(by=['Feature Importance'], ascending=False)\n",
        "\n",
        "coef.plot(kind='bar', figsize=(9,6), color=(0.4, 0.6, 0.2, 0.6))\n",
        "plt.title(\"Modal Coefficients-Feature Importance Plot\", fontsize=25)\n",
        "plt.xticks(fontsize=15)\n",
        "plt.yticks(fontsize=15)"
      ],
      "execution_count": null,
      "outputs": [
        {
          "output_type": "execute_result",
          "data": {
            "text/plain": [
              "(array([-1.5, -1. , -0.5,  0. ,  0.5,  1. ,  1.5,  2. ,  2.5]),\n",
              " <a list of 9 Text major ticklabel objects>)"
            ]
          },
          "metadata": {
            "tags": []
          },
          "execution_count": 28
        },
        {
          "output_type": "display_data",
          "data": {
            "image/png": "[encoded data removed]",
            "text/plain": [
              "<Figure size 648x432 with 1 Axes>"
            ]
          },
          "metadata": {
            "tags": [],
            "needs_background": "light"
          }
        }
      ]
    }
  ]
}